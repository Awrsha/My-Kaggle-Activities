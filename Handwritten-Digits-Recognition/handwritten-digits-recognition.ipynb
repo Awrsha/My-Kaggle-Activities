{
 "cells": [
  {
   "cell_type": "code",
   "execution_count": 1,
   "id": "52ced056",
   "metadata": {
    "_cell_guid": "b1076dfc-b9ad-4769-8c92-a6c4dae69d19",
    "_uuid": "8f2839f25d086af736a60e9eeb907d3b93b6e0e5",
    "execution": {
     "iopub.execute_input": "2024-02-02T19:20:44.011085Z",
     "iopub.status.busy": "2024-02-02T19:20:44.010564Z",
     "iopub.status.idle": "2024-02-02T19:20:46.743864Z",
     "shell.execute_reply": "2024-02-02T19:20:46.743066Z"
    },
    "papermill": {
     "duration": 2.745884,
     "end_time": "2024-02-02T19:20:46.746145",
     "exception": false,
     "start_time": "2024-02-02T19:20:44.000261",
     "status": "completed"
    },
    "tags": []
   },
   "outputs": [],
   "source": [
    "from sklearn.datasets import load_digits\n",
    "from sklearn.tree import DecisionTreeClassifier\n",
    "from sklearn.model_selection import train_test_split\n",
    "from sklearn.metrics import accuracy_score, classification_report\n",
    "from sklearn.ensemble import RandomForestClassifier\n",
    "from sklearn.svm import SVC\n",
    "from sklearn.neighbors import KNeighborsClassifier\n",
    "from sklearn.naive_bayes import GaussianNB\n",
    "from sklearn.linear_model import LogisticRegression\n",
    "import matplotlib.pyplot as plt\n",
    "import pandas as pd"
   ]
  },
  {
   "cell_type": "code",
   "execution_count": 2,
   "id": "afa18301",
   "metadata": {
    "execution": {
     "iopub.execute_input": "2024-02-02T19:20:46.764525Z",
     "iopub.status.busy": "2024-02-02T19:20:46.763882Z",
     "iopub.status.idle": "2024-02-02T19:20:49.278321Z",
     "shell.execute_reply": "2024-02-02T19:20:49.277312Z"
    },
    "papermill": {
     "duration": 2.526208,
     "end_time": "2024-02-02T19:20:49.280718",
     "exception": false,
     "start_time": "2024-02-02T19:20:46.754510",
     "status": "completed"
    },
    "tags": []
   },
   "outputs": [],
   "source": [
    "# Assuming \"train.csv\" is in the specified path (\"/kaggle/input/digit-recognizer/train.csv\")\n",
    "file_path = \"/kaggle/input/digit-recognizer/train.csv\"\n",
    "\n",
    "# Load the CSV file using pandas\n",
    "df = pd.read_csv(file_path)\n",
    "\n",
    "# Extract the pixel values and target labels\n",
    "X = df.drop(\"label\", axis=1)  # Features (pixel values)\n",
    "y = df[\"label\"]                # Target labels\n",
    "\n",
    "# Combine pixel values and labels into a list of tuples\n",
    "imgLabel = list(zip(X.values, y.values))\n",
    "\n",
    "# Display the first few entries in imgLabel\n",
    "#print(imgLabel[:5])"
   ]
  },
  {
   "cell_type": "code",
   "execution_count": 3,
   "id": "4300a661",
   "metadata": {
    "execution": {
     "iopub.execute_input": "2024-02-02T19:20:49.303684Z",
     "iopub.status.busy": "2024-02-02T19:20:49.303063Z",
     "iopub.status.idle": "2024-02-02T19:20:49.572977Z",
     "shell.execute_reply": "2024-02-02T19:20:49.572131Z"
    },
    "papermill": {
     "duration": 0.284195,
     "end_time": "2024-02-02T19:20:49.575163",
     "exception": false,
     "start_time": "2024-02-02T19:20:49.290968",
     "status": "completed"
    },
    "tags": []
   },
   "outputs": [
    {
     "data": {
      "image/png": "[encoded data removed]",
      "text/plain": [
       "<Figure size 640x480 with 10 Axes>"
      ]
     },
     "metadata": {},
     "output_type": "display_data"
    }
   ],
   "source": [
    "# Function to reshape flattened array to a 2D array\n",
    "def reshape_image(flat_image):\n",
    "    return flat_image.reshape(28, 28)  # Assuming the images are 28x28 pixels\n",
    "\n",
    "# Display the first 10 images\n",
    "for index, (flat_image, label) in enumerate(imgLabel[:10]):\n",
    "    # Reshape the flattened image to 2D\n",
    "    image = reshape_image(flat_image)\n",
    "\n",
    "    plt.subplot(2, 5, index + 1)\n",
    "    plt.axis('off')\n",
    "    plt.imshow(image, cmap=plt.cm.gray_r)\n",
    "\n",
    "plt.show()"
   ]
  },
  {
   "cell_type": "code",
   "execution_count": 4,
   "id": "82cad20f",
   "metadata": {
    "execution": {
     "iopub.execute_input": "2024-02-02T19:20:49.597736Z",
     "iopub.status.busy": "2024-02-02T19:20:49.597335Z",
     "iopub.status.idle": "2024-02-02T19:20:49.602011Z",
     "shell.execute_reply": "2024-02-02T19:20:49.600920Z"
    },
    "papermill": {
     "duration": 0.018422,
     "end_time": "2024-02-02T19:20:49.604002",
     "exception": false,
     "start_time": "2024-02-02T19:20:49.585580",
     "status": "completed"
    },
    "tags": []
   },
   "outputs": [],
   "source": [
    "n = len(imgLabel)"
   ]
  },
  {
   "cell_type": "code",
   "execution_count": 5,
   "id": "38c4c049",
   "metadata": {
    "execution": {
     "iopub.execute_input": "2024-02-02T19:20:49.622800Z",
     "iopub.status.busy": "2024-02-02T19:20:49.622473Z",
     "iopub.status.idle": "2024-02-02T19:20:49.628457Z",
     "shell.execute_reply": "2024-02-02T19:20:49.627597Z"
    },
    "papermill": {
     "duration": 0.019109,
     "end_time": "2024-02-02T19:20:49.631567",
     "exception": false,
     "start_time": "2024-02-02T19:20:49.612458",
     "status": "completed"
    },
    "tags": []
   },
   "outputs": [
    {
     "name": "stdout",
     "output_type": "stream",
     "text": [
      "[[0 0 0 ... 0 0 0]\n",
      " [0 0 0 ... 0 0 0]\n",
      " [0 0 0 ... 0 0 0]\n",
      " ...\n",
      " [0 0 0 ... 0 0 0]\n",
      " [0 0 0 ... 0 0 0]\n",
      " [0 0 0 ... 0 0 0]]\n"
     ]
    }
   ],
   "source": [
    "# Assuming 'n' is the number of samples in your dataset\n",
    "n = X.shape[0]\n",
    "\n",
    "# Reshape the flattened pixel values into a 2D array\n",
    "data = X.values.reshape((n, -1))\n",
    "\n",
    "# 'data' now contains the reshaped pixel values\n",
    "print(data)"
   ]
  },
  {
   "cell_type": "code",
   "execution_count": 6,
   "id": "a24224ab",
   "metadata": {
    "execution": {
     "iopub.execute_input": "2024-02-02T19:20:49.650582Z",
     "iopub.status.busy": "2024-02-02T19:20:49.650211Z",
     "iopub.status.idle": "2024-02-02T19:20:49.904324Z",
     "shell.execute_reply": "2024-02-02T19:20:49.903304Z"
    },
    "papermill": {
     "duration": 0.265921,
     "end_time": "2024-02-02T19:20:49.906663",
     "exception": false,
     "start_time": "2024-02-02T19:20:49.640742",
     "status": "completed"
    },
    "tags": []
   },
   "outputs": [],
   "source": [
    "from sklearn.model_selection import train_test_split\n",
    "\n",
    "# Assuming 'data' contains the reshaped pixel values and 'y' contains the target labels\n",
    "\n",
    "# Split the data into training and testing sets\n",
    "X_train, X_test, y_train, y_test = train_test_split(data, y, test_size=0.7, random_state=42)\n"
   ]
  },
  {
   "cell_type": "code",
   "execution_count": 7,
   "id": "3551940f",
   "metadata": {
    "execution": {
     "iopub.execute_input": "2024-02-02T19:20:49.925032Z",
     "iopub.status.busy": "2024-02-02T19:20:49.924707Z",
     "iopub.status.idle": "2024-02-02T19:20:52.725613Z",
     "shell.execute_reply": "2024-02-02T19:20:52.724707Z"
    },
    "papermill": {
     "duration": 2.811962,
     "end_time": "2024-02-02T19:20:52.727436",
     "exception": false,
     "start_time": "2024-02-02T19:20:49.915474",
     "status": "completed"
    },
    "tags": []
   },
   "outputs": [
    {
     "data": {
      "text/html": [
       "<style>#sk-container-id-1 {color: black;background-color: white;}#sk-container-id-1 pre{padding: 0;}#sk-container-id-1 div.sk-toggleable {background-color: white;}#sk-container-id-1 label.sk-toggleable__label {cursor: pointer;display: block;width: 100%;margin-bottom: 0;padding: 0.3em;box-sizing: border-box;text-align: center;}#sk-container-id-1 label.sk-toggleable__label-arrow:before {content: \"▸\";float: left;margin-right: 0.25em;color: #696969;}#sk-container-id-1 label.sk-toggleable__label-arrow:hover:before {color: black;}#sk-container-id-1 div.sk-estimator:hover label.sk-toggleable__label-arrow:before {color: black;}#sk-container-id-1 div.sk-toggleable__content {max-height: 0;max-width: 0;overflow: hidden;text-align: left;background-color: #f0f8ff;}#sk-container-id-1 div.sk-toggleable__content pre {margin: 0.2em;color: black;border-radius: 0.25em;background-color: #f0f8ff;}#sk-container-id-1 input.sk-toggleable__control:checked~div.sk-toggleable__content {max-height: 200px;max-width: 100%;overflow: auto;}#sk-container-id-1 input.sk-toggleable__control:checked~label.sk-toggleable__label-arrow:before {content: \"▾\";}#sk-container-id-1 div.sk-estimator input.sk-toggleable__control:checked~label.sk-toggleable__label {background-color: #d4ebff;}#sk-container-id-1 div.sk-label input.sk-toggleable__control:checked~label.sk-toggleable__label {background-color: #d4ebff;}#sk-container-id-1 input.sk-hidden--visually {border: 0;clip: rect(1px 1px 1px 1px);clip: rect(1px, 1px, 1px, 1px);height: 1px;margin: -1px;overflow: hidden;padding: 0;position: absolute;width: 1px;}#sk-container-id-1 div.sk-estimator {font-family: monospace;background-color: #f0f8ff;border: 1px dotted black;border-radius: 0.25em;box-sizing: border-box;margin-bottom: 0.5em;}#sk-container-id-1 div.sk-estimator:hover {background-color: #d4ebff;}#sk-container-id-1 div.sk-parallel-item::after {content: \"\";width: 100%;border-bottom: 1px solid gray;flex-grow: 1;}#sk-container-id-1 div.sk-label:hover label.sk-toggleable__label {background-color: #d4ebff;}#sk-container-id-1 div.sk-serial::before {content: \"\";position: absolute;border-left: 1px solid gray;box-sizing: border-box;top: 0;bottom: 0;left: 50%;z-index: 0;}#sk-container-id-1 div.sk-serial {display: flex;flex-direction: column;align-items: center;background-color: white;padding-right: 0.2em;padding-left: 0.2em;position: relative;}#sk-container-id-1 div.sk-item {position: relative;z-index: 1;}#sk-container-id-1 div.sk-parallel {display: flex;align-items: stretch;justify-content: center;background-color: white;position: relative;}#sk-container-id-1 div.sk-item::before, #sk-container-id-1 div.sk-parallel-item::before {content: \"\";position: absolute;border-left: 1px solid gray;box-sizing: border-box;top: 0;bottom: 0;left: 50%;z-index: -1;}#sk-container-id-1 div.sk-parallel-item {display: flex;flex-direction: column;z-index: 1;position: relative;background-color: white;}#sk-container-id-1 div.sk-parallel-item:first-child::after {align-self: flex-end;width: 50%;}#sk-container-id-1 div.sk-parallel-item:last-child::after {align-self: flex-start;width: 50%;}#sk-container-id-1 div.sk-parallel-item:only-child::after {width: 0;}#sk-container-id-1 div.sk-dashed-wrapped {border: 1px dashed gray;margin: 0 0.4em 0.5em 0.4em;box-sizing: border-box;padding-bottom: 0.4em;background-color: white;}#sk-container-id-1 div.sk-label label {font-family: monospace;font-weight: bold;display: inline-block;line-height: 1.2em;}#sk-container-id-1 div.sk-label-container {text-align: center;}#sk-container-id-1 div.sk-container {/* jupyter's `normalize.less` sets `[hidden] { display: none; }` but bootstrap.min.css set `[hidden] { display: none !important; }` so we also need the `!important` here to be able to override the default hidden behavior on the sphinx rendered scikit-learn.org. See: https://github.com/scikit-learn/scikit-learn/issues/21755 */display: inline-block !important;position: relative;}#sk-container-id-1 div.sk-text-repr-fallback {display: none;}</style><div id=\"sk-container-id-1\" class=\"sk-top-container\"><div class=\"sk-text-repr-fallback\"><pre>DecisionTreeClassifier(random_state=42)</pre><b>In a Jupyter environment, please rerun this cell to show the HTML representation or trust the notebook. <br />On GitHub, the HTML representation is unable to render, please try loading this page with nbviewer.org.</b></div><div class=\"sk-container\" hidden><div class=\"sk-item\"><div class=\"sk-estimator sk-toggleable\"><input class=\"sk-toggleable__control sk-hidden--visually\" id=\"sk-estimator-id-1\" type=\"checkbox\" checked><label for=\"sk-estimator-id-1\" class=\"sk-toggleable__label sk-toggleable__label-arrow\">DecisionTreeClassifier</label><div class=\"sk-toggleable__content\"><pre>DecisionTreeClassifier(random_state=42)</pre></div></div></div></div></div>"
      ],
      "text/plain": [
       "DecisionTreeClassifier(random_state=42)"
      ]
     },
     "execution_count": 7,
     "metadata": {},
     "output_type": "execute_result"
    }
   ],
   "source": [
    "decision_tree = DecisionTreeClassifier(random_state=42)\n",
    "decision_tree.fit(X_train, y_train)"
   ]
  },
  {
   "cell_type": "code",
   "execution_count": 8,
   "id": "3036e2db",
   "metadata": {
    "execution": {
     "iopub.execute_input": "2024-02-02T19:20:52.746421Z",
     "iopub.status.busy": "2024-02-02T19:20:52.745535Z",
     "iopub.status.idle": "2024-02-02T19:20:59.550671Z",
     "shell.execute_reply": "2024-02-02T19:20:59.549677Z"
    },
    "papermill": {
     "duration": 6.816846,
     "end_time": "2024-02-02T19:20:59.552678",
     "exception": false,
     "start_time": "2024-02-02T19:20:52.735832",
     "status": "completed"
    },
    "tags": []
   },
   "outputs": [
    {
     "data": {
      "text/html": [
       "<style>#sk-container-id-2 {color: black;background-color: white;}#sk-container-id-2 pre{padding: 0;}#sk-container-id-2 div.sk-toggleable {background-color: white;}#sk-container-id-2 label.sk-toggleable__label {cursor: pointer;display: block;width: 100%;margin-bottom: 0;padding: 0.3em;box-sizing: border-box;text-align: center;}#sk-container-id-2 label.sk-toggleable__label-arrow:before {content: \"▸\";float: left;margin-right: 0.25em;color: #696969;}#sk-container-id-2 label.sk-toggleable__label-arrow:hover:before {color: black;}#sk-container-id-2 div.sk-estimator:hover label.sk-toggleable__label-arrow:before {color: black;}#sk-container-id-2 div.sk-toggleable__content {max-height: 0;max-width: 0;overflow: hidden;text-align: left;background-color: #f0f8ff;}#sk-container-id-2 div.sk-toggleable__content pre {margin: 0.2em;color: black;border-radius: 0.25em;background-color: #f0f8ff;}#sk-container-id-2 input.sk-toggleable__control:checked~div.sk-toggleable__content {max-height: 200px;max-width: 100%;overflow: auto;}#sk-container-id-2 input.sk-toggleable__control:checked~label.sk-toggleable__label-arrow:before {content: \"▾\";}#sk-container-id-2 div.sk-estimator input.sk-toggleable__control:checked~label.sk-toggleable__label {background-color: #d4ebff;}#sk-container-id-2 div.sk-label input.sk-toggleable__control:checked~label.sk-toggleable__label {background-color: #d4ebff;}#sk-container-id-2 input.sk-hidden--visually {border: 0;clip: rect(1px 1px 1px 1px);clip: rect(1px, 1px, 1px, 1px);height: 1px;margin: -1px;overflow: hidden;padding: 0;position: absolute;width: 1px;}#sk-container-id-2 div.sk-estimator {font-family: monospace;background-color: #f0f8ff;border: 1px dotted black;border-radius: 0.25em;box-sizing: border-box;margin-bottom: 0.5em;}#sk-container-id-2 div.sk-estimator:hover {background-color: #d4ebff;}#sk-container-id-2 div.sk-parallel-item::after {content: \"\";width: 100%;border-bottom: 1px solid gray;flex-grow: 1;}#sk-container-id-2 div.sk-label:hover label.sk-toggleable__label {background-color: #d4ebff;}#sk-container-id-2 div.sk-serial::before {content: \"\";position: absolute;border-left: 1px solid gray;box-sizing: border-box;top: 0;bottom: 0;left: 50%;z-index: 0;}#sk-container-id-2 div.sk-serial {display: flex;flex-direction: column;align-items: center;background-color: white;padding-right: 0.2em;padding-left: 0.2em;position: relative;}#sk-container-id-2 div.sk-item {position: relative;z-index: 1;}#sk-container-id-2 div.sk-parallel {display: flex;align-items: stretch;justify-content: center;background-color: white;position: relative;}#sk-container-id-2 div.sk-item::before, #sk-container-id-2 div.sk-parallel-item::before {content: \"\";position: absolute;border-left: 1px solid gray;box-sizing: border-box;top: 0;bottom: 0;left: 50%;z-index: -1;}#sk-container-id-2 div.sk-parallel-item {display: flex;flex-direction: column;z-index: 1;position: relative;background-color: white;}#sk-container-id-2 div.sk-parallel-item:first-child::after {align-self: flex-end;width: 50%;}#sk-container-id-2 div.sk-parallel-item:last-child::after {align-self: flex-start;width: 50%;}#sk-container-id-2 div.sk-parallel-item:only-child::after {width: 0;}#sk-container-id-2 div.sk-dashed-wrapped {border: 1px dashed gray;margin: 0 0.4em 0.5em 0.4em;box-sizing: border-box;padding-bottom: 0.4em;background-color: white;}#sk-container-id-2 div.sk-label label {font-family: monospace;font-weight: bold;display: inline-block;line-height: 1.2em;}#sk-container-id-2 div.sk-label-container {text-align: center;}#sk-container-id-2 div.sk-container {/* jupyter's `normalize.less` sets `[hidden] { display: none; }` but bootstrap.min.css set `[hidden] { display: none !important; }` so we also need the `!important` here to be able to override the default hidden behavior on the sphinx rendered scikit-learn.org. See: https://github.com/scikit-learn/scikit-learn/issues/21755 */display: inline-block !important;position: relative;}#sk-container-id-2 div.sk-text-repr-fallback {display: none;}</style><div id=\"sk-container-id-2\" class=\"sk-top-container\"><div class=\"sk-text-repr-fallback\"><pre>RandomForestClassifier(random_state=42)</pre><b>In a Jupyter environment, please rerun this cell to show the HTML representation or trust the notebook. <br />On GitHub, the HTML representation is unable to render, please try loading this page with nbviewer.org.</b></div><div class=\"sk-container\" hidden><div class=\"sk-item\"><div class=\"sk-estimator sk-toggleable\"><input class=\"sk-toggleable__control sk-hidden--visually\" id=\"sk-estimator-id-2\" type=\"checkbox\" checked><label for=\"sk-estimator-id-2\" class=\"sk-toggleable__label sk-toggleable__label-arrow\">RandomForestClassifier</label><div class=\"sk-toggleable__content\"><pre>RandomForestClassifier(random_state=42)</pre></div></div></div></div></div>"
      ],
      "text/plain": [
       "RandomForestClassifier(random_state=42)"
      ]
     },
     "execution_count": 8,
     "metadata": {},
     "output_type": "execute_result"
    }
   ],
   "source": [
    "random_forest = RandomForestClassifier(n_estimators=100, random_state=42)\n",
    "random_forest.fit(X_train, y_train)"
   ]
  },
  {
   "cell_type": "code",
   "execution_count": 9,
   "id": "8ad8eb11",
   "metadata": {
    "execution": {
     "iopub.execute_input": "2024-02-02T19:20:59.571846Z",
     "iopub.status.busy": "2024-02-02T19:20:59.571515Z",
     "iopub.status.idle": "2024-02-02T19:21:00.461972Z",
     "shell.execute_reply": "2024-02-02T19:21:00.460852Z"
    },
    "papermill": {
     "duration": 0.902863,
     "end_time": "2024-02-02T19:21:00.464353",
     "exception": false,
     "start_time": "2024-02-02T19:20:59.561490",
     "status": "completed"
    },
    "tags": []
   },
   "outputs": [],
   "source": [
    "y_pred_decision_tree = decision_tree.predict(X_test)\n",
    "y_pred_random_forest = random_forest.predict(X_test)"
   ]
  },
  {
   "cell_type": "code",
   "execution_count": 10,
   "id": "14496543",
   "metadata": {
    "execution": {
     "iopub.execute_input": "2024-02-02T19:21:00.483548Z",
     "iopub.status.busy": "2024-02-02T19:21:00.483174Z",
     "iopub.status.idle": "2024-02-02T19:21:00.545339Z",
     "shell.execute_reply": "2024-02-02T19:21:00.544282Z"
    },
    "papermill": {
     "duration": 0.07447,
     "end_time": "2024-02-02T19:21:00.547682",
     "exception": false,
     "start_time": "2024-02-02T19:21:00.473212",
     "status": "completed"
    },
    "tags": []
   },
   "outputs": [
    {
     "name": "stdout",
     "output_type": "stream",
     "text": [
      "Decision Tree:\n",
      "Accuracy: 0.820374149659864\n",
      "Classification Report:\n",
      "               precision    recall  f1-score   support\n",
      "\n",
      "           0       0.87      0.89      0.88      2905\n",
      "           1       0.93      0.94      0.93      3271\n",
      "           2       0.80      0.78      0.79      2988\n",
      "           3       0.79      0.78      0.78      3059\n",
      "           4       0.83      0.81      0.82      2877\n",
      "           5       0.74      0.76      0.75      2631\n",
      "           6       0.84      0.85      0.84      2896\n",
      "           7       0.85      0.87      0.86      3043\n",
      "           8       0.75      0.72      0.74      2842\n",
      "           9       0.77      0.78      0.78      2888\n",
      "\n",
      "    accuracy                           0.82     29400\n",
      "   macro avg       0.82      0.82      0.82     29400\n",
      "weighted avg       0.82      0.82      0.82     29400\n",
      "\n"
     ]
    }
   ],
   "source": [
    "print(\"Decision Tree:\")\n",
    "print(\"Accuracy:\", accuracy_score(y_test, y_pred_decision_tree))\n",
    "print(\"Classification Report:\\n\", classification_report(y_test, y_pred_decision_tree))"
   ]
  },
  {
   "cell_type": "code",
   "execution_count": 11,
   "id": "53a237f2",
   "metadata": {
    "execution": {
     "iopub.execute_input": "2024-02-02T19:21:00.567452Z",
     "iopub.status.busy": "2024-02-02T19:21:00.566842Z",
     "iopub.status.idle": "2024-02-02T19:21:00.627217Z",
     "shell.execute_reply": "2024-02-02T19:21:00.625280Z"
    },
    "papermill": {
     "duration": 0.073652,
     "end_time": "2024-02-02T19:21:00.630278",
     "exception": false,
     "start_time": "2024-02-02T19:21:00.556626",
     "status": "completed"
    },
    "tags": []
   },
   "outputs": [
    {
     "name": "stdout",
     "output_type": "stream",
     "text": [
      "Random Forest:\n",
      "Accuracy: 0.9518707482993197\n",
      "Classification Report:\n",
      "               precision    recall  f1-score   support\n",
      "\n",
      "           0       0.97      0.98      0.98      2905\n",
      "           1       0.98      0.98      0.98      3271\n",
      "           2       0.95      0.95      0.95      2988\n",
      "           3       0.94      0.93      0.93      3059\n",
      "           4       0.96      0.95      0.95      2877\n",
      "           5       0.95      0.94      0.94      2631\n",
      "           6       0.96      0.97      0.96      2896\n",
      "           7       0.96      0.96      0.96      3043\n",
      "           8       0.94      0.93      0.94      2842\n",
      "           9       0.92      0.93      0.92      2888\n",
      "\n",
      "    accuracy                           0.95     29400\n",
      "   macro avg       0.95      0.95      0.95     29400\n",
      "weighted avg       0.95      0.95      0.95     29400\n",
      "\n"
     ]
    }
   ],
   "source": [
    "print(\"Random Forest:\")\n",
    "print(\"Accuracy:\", accuracy_score(y_test, y_pred_random_forest))\n",
    "print(\"Classification Report:\\n\", classification_report(y_test, y_pred_random_forest))"
   ]
  },
  {
   "cell_type": "code",
   "execution_count": 12,
   "id": "bbc8397d",
   "metadata": {
    "execution": {
     "iopub.execute_input": "2024-02-02T19:21:00.649786Z",
     "iopub.status.busy": "2024-02-02T19:21:00.649473Z",
     "iopub.status.idle": "2024-02-02T19:22:35.806055Z",
     "shell.execute_reply": "2024-02-02T19:22:35.805010Z"
    },
    "papermill": {
     "duration": 95.168945,
     "end_time": "2024-02-02T19:22:35.808476",
     "exception": false,
     "start_time": "2024-02-02T19:21:00.639531",
     "status": "completed"
    },
    "tags": []
   },
   "outputs": [],
   "source": [
    "svm_classifier = SVC()\n",
    "svm_classifier.fit(X_train, y_train)\n",
    "y_pred_svm = svm_classifier.predict(X_test)"
   ]
  },
  {
   "cell_type": "code",
   "execution_count": 13,
   "id": "9ea09b65",
   "metadata": {
    "execution": {
     "iopub.execute_input": "2024-02-02T19:22:35.828812Z",
     "iopub.status.busy": "2024-02-02T19:22:35.828460Z",
     "iopub.status.idle": "2024-02-02T19:22:35.886666Z",
     "shell.execute_reply": "2024-02-02T19:22:35.885342Z"
    },
    "papermill": {
     "duration": 0.070507,
     "end_time": "2024-02-02T19:22:35.888811",
     "exception": false,
     "start_time": "2024-02-02T19:22:35.818304",
     "status": "completed"
    },
    "tags": []
   },
   "outputs": [
    {
     "name": "stdout",
     "output_type": "stream",
     "text": [
      "SVM:\n",
      "Accuracy: 0.9655442176870749\n",
      "Classification Report:\n",
      "               precision    recall  f1-score   support\n",
      "\n",
      "           0       0.98      0.99      0.98      2905\n",
      "           1       0.98      0.98      0.98      3271\n",
      "           2       0.97      0.96      0.96      2988\n",
      "           3       0.96      0.95      0.95      3059\n",
      "           4       0.96      0.96      0.96      2877\n",
      "           5       0.96      0.96      0.96      2631\n",
      "           6       0.97      0.98      0.98      2896\n",
      "           7       0.96      0.97      0.97      3043\n",
      "           8       0.96      0.96      0.96      2842\n",
      "           9       0.95      0.94      0.95      2888\n",
      "\n",
      "    accuracy                           0.97     29400\n",
      "   macro avg       0.97      0.97      0.97     29400\n",
      "weighted avg       0.97      0.97      0.97     29400\n",
      "\n"
     ]
    }
   ],
   "source": [
    "print(\"SVM:\")\n",
    "print(\"Accuracy:\", accuracy_score(y_test, y_pred_svm))\n",
    "print(\"Classification Report:\\n\", classification_report(y_test, y_pred_svm))"
   ]
  },
  {
   "cell_type": "code",
   "execution_count": 14,
   "id": "a7b4e172",
   "metadata": {
    "execution": {
     "iopub.execute_input": "2024-02-02T19:22:35.908075Z",
     "iopub.status.busy": "2024-02-02T19:22:35.907732Z",
     "iopub.status.idle": "2024-02-02T19:22:49.499602Z",
     "shell.execute_reply": "2024-02-02T19:22:49.497900Z"
    },
    "papermill": {
     "duration": 13.604322,
     "end_time": "2024-02-02T19:22:49.502018",
     "exception": false,
     "start_time": "2024-02-02T19:22:35.897696",
     "status": "completed"
    },
    "tags": []
   },
   "outputs": [],
   "source": [
    "knn_classifier = KNeighborsClassifier()\n",
    "knn_classifier.fit(X_train, y_train)\n",
    "y_pred_knn = knn_classifier.predict(X_test)"
   ]
  },
  {
   "cell_type": "code",
   "execution_count": 15,
   "id": "accd0e02",
   "metadata": {
    "execution": {
     "iopub.execute_input": "2024-02-02T19:22:49.521610Z",
     "iopub.status.busy": "2024-02-02T19:22:49.521229Z",
     "iopub.status.idle": "2024-02-02T19:22:49.580938Z",
     "shell.execute_reply": "2024-02-02T19:22:49.579606Z"
    },
    "papermill": {
     "duration": 0.07264,
     "end_time": "2024-02-02T19:22:49.583777",
     "exception": false,
     "start_time": "2024-02-02T19:22:49.511137",
     "status": "completed"
    },
    "tags": []
   },
   "outputs": [
    {
     "name": "stdout",
     "output_type": "stream",
     "text": [
      "K-Nearest Neighbors (KNN):\n",
      "Accuracy: 0.9509863945578231\n",
      "Classification Report:\n",
      "               precision    recall  f1-score   support\n",
      "\n",
      "           0       0.96      0.99      0.98      2905\n",
      "           1       0.92      0.99      0.96      3271\n",
      "           2       0.98      0.92      0.95      2988\n",
      "           3       0.94      0.95      0.95      3059\n",
      "           4       0.97      0.94      0.95      2877\n",
      "           5       0.94      0.94      0.94      2631\n",
      "           6       0.97      0.98      0.97      2896\n",
      "           7       0.94      0.96      0.95      3043\n",
      "           8       0.98      0.89      0.93      2842\n",
      "           9       0.92      0.93      0.93      2888\n",
      "\n",
      "    accuracy                           0.95     29400\n",
      "   macro avg       0.95      0.95      0.95     29400\n",
      "weighted avg       0.95      0.95      0.95     29400\n",
      "\n"
     ]
    }
   ],
   "source": [
    "print(\"K-Nearest Neighbors (KNN):\")\n",
    "print(\"Accuracy:\", accuracy_score(y_test, y_pred_knn))\n",
    "print(\"Classification Report:\\n\", classification_report(y_test, y_pred_knn))"
   ]
  },
  {
   "cell_type": "code",
   "execution_count": 16,
   "id": "0efb55af",
   "metadata": {
    "execution": {
     "iopub.execute_input": "2024-02-02T19:22:49.604161Z",
     "iopub.status.busy": "2024-02-02T19:22:49.603359Z",
     "iopub.status.idle": "2024-02-02T19:22:50.647932Z",
     "shell.execute_reply": "2024-02-02T19:22:50.646593Z"
    },
    "papermill": {
     "duration": 1.05713,
     "end_time": "2024-02-02T19:22:50.650188",
     "exception": false,
     "start_time": "2024-02-02T19:22:49.593058",
     "status": "completed"
    },
    "tags": []
   },
   "outputs": [],
   "source": [
    "nb_classifier = GaussianNB()\n",
    "nb_classifier.fit(X_train, y_train)\n",
    "y_pred_nb = nb_classifier.predict(X_test)"
   ]
  },
  {
   "cell_type": "code",
   "execution_count": 17,
   "id": "00496780",
   "metadata": {
    "execution": {
     "iopub.execute_input": "2024-02-02T19:22:50.669974Z",
     "iopub.status.busy": "2024-02-02T19:22:50.669610Z",
     "iopub.status.idle": "2024-02-02T19:22:50.727049Z",
     "shell.execute_reply": "2024-02-02T19:22:50.726028Z"
    },
    "papermill": {
     "duration": 0.070177,
     "end_time": "2024-02-02T19:22:50.729460",
     "exception": false,
     "start_time": "2024-02-02T19:22:50.659283",
     "status": "completed"
    },
    "tags": []
   },
   "outputs": [
    {
     "name": "stdout",
     "output_type": "stream",
     "text": [
      "Naive Bayes:\n",
      "Accuracy: 0.5758503401360544\n",
      "Classification Report:\n",
      "               precision    recall  f1-score   support\n",
      "\n",
      "           0       0.53      0.96      0.68      2905\n",
      "           1       0.68      0.96      0.80      3271\n",
      "           2       0.87      0.35      0.50      2988\n",
      "           3       0.78      0.29      0.42      3059\n",
      "           4       0.84      0.17      0.28      2877\n",
      "           5       0.68      0.09      0.16      2631\n",
      "           6       0.66      0.93      0.77      2896\n",
      "           7       0.89      0.49      0.63      3043\n",
      "           8       0.35      0.54      0.43      2842\n",
      "           9       0.43      0.91      0.58      2888\n",
      "\n",
      "    accuracy                           0.58     29400\n",
      "   macro avg       0.67      0.57      0.53     29400\n",
      "weighted avg       0.67      0.58      0.53     29400\n",
      "\n"
     ]
    }
   ],
   "source": [
    "print(\"Naive Bayes:\")\n",
    "print(\"Accuracy:\", accuracy_score(y_test, y_pred_nb))\n",
    "print(\"Classification Report:\\n\", classification_report(y_test, y_pred_nb))"
   ]
  },
  {
   "cell_type": "code",
   "execution_count": 18,
   "id": "d110819f",
   "metadata": {
    "execution": {
     "iopub.execute_input": "2024-02-02T19:22:50.749680Z",
     "iopub.status.busy": "2024-02-02T19:22:50.749286Z",
     "iopub.status.idle": "2024-02-02T19:22:53.090087Z",
     "shell.execute_reply": "2024-02-02T19:22:53.089368Z"
    },
    "papermill": {
     "duration": 2.353354,
     "end_time": "2024-02-02T19:22:53.092095",
     "exception": false,
     "start_time": "2024-02-02T19:22:50.738741",
     "status": "completed"
    },
    "tags": []
   },
   "outputs": [
    {
     "name": "stderr",
     "output_type": "stream",
     "text": [
      "/opt/conda/lib/python3.10/site-packages/sklearn/linear_model/_logistic.py:458: ConvergenceWarning: lbfgs failed to converge (status=1):\n",
      "STOP: TOTAL NO. of ITERATIONS REACHED LIMIT.\n",
      "\n",
      "Increase the number of iterations (max_iter) or scale the data as shown in:\n",
      "    https://scikit-learn.org/stable/modules/preprocessing.html\n",
      "Please also refer to the documentation for alternative solver options:\n",
      "    https://scikit-learn.org/stable/modules/linear_model.html#logistic-regression\n",
      "  n_iter_i = _check_optimize_result(\n"
     ]
    }
   ],
   "source": [
    "from sklearn.preprocessing import StandardScaler\n",
    "\n",
    "scaler = StandardScaler()\n",
    "X_train_scaled = scaler.fit_transform(X_train)\n",
    "X_test_scaled = scaler.transform(X_test)\n",
    "\n",
    "#logistic_classifier = LogisticRegression(solver='liblinear')  # or 'saga', 'newton-cg', etc.\n",
    "\n",
    "logistic_classifier = LogisticRegression()\n",
    "logistic_classifier.fit(X_train_scaled, y_train)\n",
    "y_pred_logistic = logistic_classifier.predict(X_test_scaled)\n"
   ]
  },
  {
   "cell_type": "code",
   "execution_count": 19,
   "id": "44799f10",
   "metadata": {
    "execution": {
     "iopub.execute_input": "2024-02-02T19:22:53.118781Z",
     "iopub.status.busy": "2024-02-02T19:22:53.118007Z",
     "iopub.status.idle": "2024-02-02T19:22:53.185767Z",
     "shell.execute_reply": "2024-02-02T19:22:53.185050Z"
    },
    "papermill": {
     "duration": 0.083626,
     "end_time": "2024-02-02T19:22:53.187703",
     "exception": false,
     "start_time": "2024-02-02T19:22:53.104077",
     "status": "completed"
    },
    "tags": []
   },
   "outputs": [
    {
     "name": "stdout",
     "output_type": "stream",
     "text": [
      "Logistic Regression:\n",
      "Accuracy: 0.8810544217687075\n",
      "Classification Report:\n",
      "               precision    recall  f1-score   support\n",
      "\n",
      "           0       0.94      0.94      0.94      2905\n",
      "           1       0.93      0.96      0.95      3271\n",
      "           2       0.87      0.84      0.85      2988\n",
      "           3       0.85      0.84      0.85      3059\n",
      "           4       0.89      0.88      0.88      2877\n",
      "           5       0.83      0.82      0.82      2631\n",
      "           6       0.91      0.93      0.92      2896\n",
      "           7       0.90      0.91      0.90      3043\n",
      "           8       0.84      0.83      0.83      2842\n",
      "           9       0.84      0.85      0.85      2888\n",
      "\n",
      "    accuracy                           0.88     29400\n",
      "   macro avg       0.88      0.88      0.88     29400\n",
      "weighted avg       0.88      0.88      0.88     29400\n",
      "\n"
     ]
    }
   ],
   "source": [
    "print(\"Logistic Regression:\")\n",
    "print(\"Accuracy:\", accuracy_score(y_test, y_pred_logistic))\n",
    "print(\"Classification Report:\\n\", classification_report(y_test, y_pred_logistic))"
   ]
  },
  {
   "cell_type": "markdown",
   "id": "856f2021",
   "metadata": {
    "papermill": {
     "duration": 0.010081,
     "end_time": "2024-02-02T19:22:53.209687",
     "exception": false,
     "start_time": "2024-02-02T19:22:53.199606",
     "status": "completed"
    },
    "tags": []
   },
   "source": [
    "**MNIST digit recognizer using CNN**"
   ]
  },
  {
   "cell_type": "code",
   "execution_count": 20,
   "id": "a5d5220c",
   "metadata": {
    "execution": {
     "iopub.execute_input": "2024-02-02T19:22:53.229976Z",
     "iopub.status.busy": "2024-02-02T19:22:53.229606Z",
     "iopub.status.idle": "2024-02-02T19:22:53.549975Z",
     "shell.execute_reply": "2024-02-02T19:22:53.548856Z"
    },
    "papermill": {
     "duration": 0.333185,
     "end_time": "2024-02-02T19:22:53.552290",
     "exception": false,
     "start_time": "2024-02-02T19:22:53.219105",
     "status": "completed"
    },
    "tags": []
   },
   "outputs": [],
   "source": [
    "import numpy as np\n",
    "import pandas as pd\n",
    "import matplotlib.pyplot as plt\n",
    "import seaborn as sns"
   ]
  },
  {
   "cell_type": "code",
   "execution_count": 21,
   "id": "0bbdfd51",
   "metadata": {
    "execution": {
     "iopub.execute_input": "2024-02-02T19:22:53.572760Z",
     "iopub.status.busy": "2024-02-02T19:22:53.572362Z",
     "iopub.status.idle": "2024-02-02T19:23:07.389276Z",
     "shell.execute_reply": "2024-02-02T19:23:07.387743Z"
    },
    "papermill": {
     "duration": 13.829785,
     "end_time": "2024-02-02T19:23:07.391802",
     "exception": false,
     "start_time": "2024-02-02T19:22:53.562017",
     "status": "completed"
    },
    "tags": []
   },
   "outputs": [
    {
     "name": "stderr",
     "output_type": "stream",
     "text": [
      "2024-02-02 19:22:55.868323: E external/local_xla/xla/stream_executor/cuda/cuda_dnn.cc:9261] Unable to register cuDNN factory: Attempting to register factory for plugin cuDNN when one has already been registered\n",
      "2024-02-02 19:22:55.868510: E external/local_xla/xla/stream_executor/cuda/cuda_fft.cc:607] Unable to register cuFFT factory: Attempting to register factory for plugin cuFFT when one has already been registered\n",
      "2024-02-02 19:22:56.035103: E external/local_xla/xla/stream_executor/cuda/cuda_blas.cc:1515] Unable to register cuBLAS factory: Attempting to register factory for plugin cuBLAS when one has already been registered\n"
     ]
    }
   ],
   "source": [
    "import tensorflow as tf\n",
    "from tensorflow.keras import layers, models, datasets, Sequential, optimizers, callbacks\n",
    "from tensorflow.keras.layers import Input, InputLayer, Dense, Dropout, Flatten, Conv2D, MaxPooling2D\n",
    "from tensorflow.keras.callbacks import EarlyStopping, ReduceLROnPlateau, ModelCheckpoint"
   ]
  },
  {
   "cell_type": "code",
   "execution_count": 22,
   "id": "36fca2ed",
   "metadata": {
    "execution": {
     "iopub.execute_input": "2024-02-02T19:23:07.412636Z",
     "iopub.status.busy": "2024-02-02T19:23:07.411964Z",
     "iopub.status.idle": "2024-02-02T19:23:09.059652Z",
     "shell.execute_reply": "2024-02-02T19:23:09.058330Z"
    },
    "papermill": {
     "duration": 1.66037,
     "end_time": "2024-02-02T19:23:09.061646",
     "exception": false,
     "start_time": "2024-02-02T19:23:07.401276",
     "status": "completed"
    },
    "tags": []
   },
   "outputs": [
    {
     "data": {
      "text/html": [
       "<div>\n",
       "<style scoped>\n",
       "    .dataframe tbody tr th:only-of-type {\n",
       "        vertical-align: middle;\n",
       "    }\n",
       "\n",
       "    .dataframe tbody tr th {\n",
       "        vertical-align: top;\n",
       "    }\n",
       "\n",
       "    .dataframe thead th {\n",
       "        text-align: right;\n",
       "    }\n",
       "</style>\n",
       "<table border=\"1\" class=\"dataframe\">\n",
       "  <thead>\n",
       "    <tr style=\"text-align: right;\">\n",
       "      <th></th>\n",
       "      <th>label</th>\n",
       "      <th>pixel0</th>\n",
       "      <th>pixel1</th>\n",
       "      <th>pixel2</th>\n",
       "      <th>pixel3</th>\n",
       "      <th>pixel4</th>\n",
       "      <th>pixel5</th>\n",
       "      <th>pixel6</th>\n",
       "      <th>pixel7</th>\n",
       "      <th>pixel8</th>\n",
       "      <th>...</th>\n",
       "      <th>pixel774</th>\n",
       "      <th>pixel775</th>\n",
       "      <th>pixel776</th>\n",
       "      <th>pixel777</th>\n",
       "      <th>pixel778</th>\n",
       "      <th>pixel779</th>\n",
       "      <th>pixel780</th>\n",
       "      <th>pixel781</th>\n",
       "      <th>pixel782</th>\n",
       "      <th>pixel783</th>\n",
       "    </tr>\n",
       "  </thead>\n",
       "  <tbody>\n",
       "    <tr>\n",
       "      <th>0</th>\n",
       "      <td>1</td>\n",
       "      <td>0</td>\n",
       "      <td>0</td>\n",
       "      <td>0</td>\n",
       "      <td>0</td>\n",
       "      <td>0</td>\n",
       "      <td>0</td>\n",
       "      <td>0</td>\n",
       "      <td>0</td>\n",
       "      <td>0</td>\n",
       "      <td>...</td>\n",
       "      <td>0</td>\n",
       "      <td>0</td>\n",
       "      <td>0</td>\n",
       "      <td>0</td>\n",
       "      <td>0</td>\n",
       "      <td>0</td>\n",
       "      <td>0</td>\n",
       "      <td>0</td>\n",
       "      <td>0</td>\n",
       "      <td>0</td>\n",
       "    </tr>\n",
       "    <tr>\n",
       "      <th>1</th>\n",
       "      <td>0</td>\n",
       "      <td>0</td>\n",
       "      <td>0</td>\n",
       "      <td>0</td>\n",
       "      <td>0</td>\n",
       "      <td>0</td>\n",
       "      <td>0</td>\n",
       "      <td>0</td>\n",
       "      <td>0</td>\n",
       "      <td>0</td>\n",
       "      <td>...</td>\n",
       "      <td>0</td>\n",
       "      <td>0</td>\n",
       "      <td>0</td>\n",
       "      <td>0</td>\n",
       "      <td>0</td>\n",
       "      <td>0</td>\n",
       "      <td>0</td>\n",
       "      <td>0</td>\n",
       "      <td>0</td>\n",
       "      <td>0</td>\n",
       "    </tr>\n",
       "    <tr>\n",
       "      <th>2</th>\n",
       "      <td>1</td>\n",
       "      <td>0</td>\n",
       "      <td>0</td>\n",
       "      <td>0</td>\n",
       "      <td>0</td>\n",
       "      <td>0</td>\n",
       "      <td>0</td>\n",
       "      <td>0</td>\n",
       "      <td>0</td>\n",
       "      <td>0</td>\n",
       "      <td>...</td>\n",
       "      <td>0</td>\n",
       "      <td>0</td>\n",
       "      <td>0</td>\n",
       "      <td>0</td>\n",
       "      <td>0</td>\n",
       "      <td>0</td>\n",
       "      <td>0</td>\n",
       "      <td>0</td>\n",
       "      <td>0</td>\n",
       "      <td>0</td>\n",
       "    </tr>\n",
       "    <tr>\n",
       "      <th>3</th>\n",
       "      <td>4</td>\n",
       "      <td>0</td>\n",
       "      <td>0</td>\n",
       "      <td>0</td>\n",
       "      <td>0</td>\n",
       "      <td>0</td>\n",
       "      <td>0</td>\n",
       "      <td>0</td>\n",
       "      <td>0</td>\n",
       "      <td>0</td>\n",
       "      <td>...</td>\n",
       "      <td>0</td>\n",
       "      <td>0</td>\n",
       "      <td>0</td>\n",
       "      <td>0</td>\n",
       "      <td>0</td>\n",
       "      <td>0</td>\n",
       "      <td>0</td>\n",
       "      <td>0</td>\n",
       "      <td>0</td>\n",
       "      <td>0</td>\n",
       "    </tr>\n",
       "    <tr>\n",
       "      <th>4</th>\n",
       "      <td>0</td>\n",
       "      <td>0</td>\n",
       "      <td>0</td>\n",
       "      <td>0</td>\n",
       "      <td>0</td>\n",
       "      <td>0</td>\n",
       "      <td>0</td>\n",
       "      <td>0</td>\n",
       "      <td>0</td>\n",
       "      <td>0</td>\n",
       "      <td>...</td>\n",
       "      <td>0</td>\n",
       "      <td>0</td>\n",
       "      <td>0</td>\n",
       "      <td>0</td>\n",
       "      <td>0</td>\n",
       "      <td>0</td>\n",
       "      <td>0</td>\n",
       "      <td>0</td>\n",
       "      <td>0</td>\n",
       "      <td>0</td>\n",
       "    </tr>\n",
       "    <tr>\n",
       "      <th>...</th>\n",
       "      <td>...</td>\n",
       "      <td>...</td>\n",
       "      <td>...</td>\n",
       "      <td>...</td>\n",
       "      <td>...</td>\n",
       "      <td>...</td>\n",
       "      <td>...</td>\n",
       "      <td>...</td>\n",
       "      <td>...</td>\n",
       "      <td>...</td>\n",
       "      <td>...</td>\n",
       "      <td>...</td>\n",
       "      <td>...</td>\n",
       "      <td>...</td>\n",
       "      <td>...</td>\n",
       "      <td>...</td>\n",
       "      <td>...</td>\n",
       "      <td>...</td>\n",
       "      <td>...</td>\n",
       "      <td>...</td>\n",
       "      <td>...</td>\n",
       "    </tr>\n",
       "    <tr>\n",
       "      <th>41995</th>\n",
       "      <td>0</td>\n",
       "      <td>0</td>\n",
       "      <td>0</td>\n",
       "      <td>0</td>\n",
       "      <td>0</td>\n",
       "      <td>0</td>\n",
       "      <td>0</td>\n",
       "      <td>0</td>\n",
       "      <td>0</td>\n",
       "      <td>0</td>\n",
       "      <td>...</td>\n",
       "      <td>0</td>\n",
       "      <td>0</td>\n",
       "      <td>0</td>\n",
       "      <td>0</td>\n",
       "      <td>0</td>\n",
       "      <td>0</td>\n",
       "      <td>0</td>\n",
       "      <td>0</td>\n",
       "      <td>0</td>\n",
       "      <td>0</td>\n",
       "    </tr>\n",
       "    <tr>\n",
       "      <th>41996</th>\n",
       "      <td>1</td>\n",
       "      <td>0</td>\n",
       "      <td>0</td>\n",
       "      <td>0</td>\n",
       "      <td>0</td>\n",
       "      <td>0</td>\n",
       "      <td>0</td>\n",
       "      <td>0</td>\n",
       "      <td>0</td>\n",
       "      <td>0</td>\n",
       "      <td>...</td>\n",
       "      <td>0</td>\n",
       "      <td>0</td>\n",
       "      <td>0</td>\n",
       "      <td>0</td>\n",
       "      <td>0</td>\n",
       "      <td>0</td>\n",
       "      <td>0</td>\n",
       "      <td>0</td>\n",
       "      <td>0</td>\n",
       "      <td>0</td>\n",
       "    </tr>\n",
       "    <tr>\n",
       "      <th>41997</th>\n",
       "      <td>7</td>\n",
       "      <td>0</td>\n",
       "      <td>0</td>\n",
       "      <td>0</td>\n",
       "      <td>0</td>\n",
       "      <td>0</td>\n",
       "      <td>0</td>\n",
       "      <td>0</td>\n",
       "      <td>0</td>\n",
       "      <td>0</td>\n",
       "      <td>...</td>\n",
       "      <td>0</td>\n",
       "      <td>0</td>\n",
       "      <td>0</td>\n",
       "      <td>0</td>\n",
       "      <td>0</td>\n",
       "      <td>0</td>\n",
       "      <td>0</td>\n",
       "      <td>0</td>\n",
       "      <td>0</td>\n",
       "      <td>0</td>\n",
       "    </tr>\n",
       "    <tr>\n",
       "      <th>41998</th>\n",
       "      <td>6</td>\n",
       "      <td>0</td>\n",
       "      <td>0</td>\n",
       "      <td>0</td>\n",
       "      <td>0</td>\n",
       "      <td>0</td>\n",
       "      <td>0</td>\n",
       "      <td>0</td>\n",
       "      <td>0</td>\n",
       "      <td>0</td>\n",
       "      <td>...</td>\n",
       "      <td>0</td>\n",
       "      <td>0</td>\n",
       "      <td>0</td>\n",
       "      <td>0</td>\n",
       "      <td>0</td>\n",
       "      <td>0</td>\n",
       "      <td>0</td>\n",
       "      <td>0</td>\n",
       "      <td>0</td>\n",
       "      <td>0</td>\n",
       "    </tr>\n",
       "    <tr>\n",
       "      <th>41999</th>\n",
       "      <td>9</td>\n",
       "      <td>0</td>\n",
       "      <td>0</td>\n",
       "      <td>0</td>\n",
       "      <td>0</td>\n",
       "      <td>0</td>\n",
       "      <td>0</td>\n",
       "      <td>0</td>\n",
       "      <td>0</td>\n",
       "      <td>0</td>\n",
       "      <td>...</td>\n",
       "      <td>0</td>\n",
       "      <td>0</td>\n",
       "      <td>0</td>\n",
       "      <td>0</td>\n",
       "      <td>0</td>\n",
       "      <td>0</td>\n",
       "      <td>0</td>\n",
       "      <td>0</td>\n",
       "      <td>0</td>\n",
       "      <td>0</td>\n",
       "    </tr>\n",
       "  </tbody>\n",
       "</table>\n",
       "<p>42000 rows × 785 columns</p>\n",
       "</div>"
      ],
      "text/plain": [
       "       label  pixel0  pixel1  pixel2  pixel3  pixel4  pixel5  pixel6  pixel7  \\\n",
       "0          1       0       0       0       0       0       0       0       0   \n",
       "1          0       0       0       0       0       0       0       0       0   \n",
       "2          1       0       0       0       0       0       0       0       0   \n",
       "3          4       0       0       0       0       0       0       0       0   \n",
       "4          0       0       0       0       0       0       0       0       0   \n",
       "...      ...     ...     ...     ...     ...     ...     ...     ...     ...   \n",
       "41995      0       0       0       0       0       0       0       0       0   \n",
       "41996      1       0       0       0       0       0       0       0       0   \n",
       "41997      7       0       0       0       0       0       0       0       0   \n",
       "41998      6       0       0       0       0       0       0       0       0   \n",
       "41999      9       0       0       0       0       0       0       0       0   \n",
       "\n",
       "       pixel8  ...  pixel774  pixel775  pixel776  pixel777  pixel778  \\\n",
       "0           0  ...         0         0         0         0         0   \n",
       "1           0  ...         0         0         0         0         0   \n",
       "2           0  ...         0         0         0         0         0   \n",
       "3           0  ...         0         0         0         0         0   \n",
       "4           0  ...         0         0         0         0         0   \n",
       "...       ...  ...       ...       ...       ...       ...       ...   \n",
       "41995       0  ...         0         0         0         0         0   \n",
       "41996       0  ...         0         0         0         0         0   \n",
       "41997       0  ...         0         0         0         0         0   \n",
       "41998       0  ...         0         0         0         0         0   \n",
       "41999       0  ...         0         0         0         0         0   \n",
       "\n",
       "       pixel779  pixel780  pixel781  pixel782  pixel783  \n",
       "0             0         0         0         0         0  \n",
       "1             0         0         0         0         0  \n",
       "2             0         0         0         0         0  \n",
       "3             0         0         0         0         0  \n",
       "4             0         0         0         0         0  \n",
       "...         ...       ...       ...       ...       ...  \n",
       "41995         0         0         0         0         0  \n",
       "41996         0         0         0         0         0  \n",
       "41997         0         0         0         0         0  \n",
       "41998         0         0         0         0         0  \n",
       "41999         0         0         0         0         0  \n",
       "\n",
       "[42000 rows x 785 columns]"
      ]
     },
     "execution_count": 22,
     "metadata": {},
     "output_type": "execute_result"
    }
   ],
   "source": [
    "train_df = pd.read_csv('/kaggle/input/digit-recognizer/train.csv')\n",
    "train_df"
   ]
  },
  {
   "cell_type": "code",
   "execution_count": 23,
   "id": "d38008bd",
   "metadata": {
    "execution": {
     "iopub.execute_input": "2024-02-02T19:23:09.083200Z",
     "iopub.status.busy": "2024-02-02T19:23:09.082861Z",
     "iopub.status.idle": "2024-02-02T19:23:10.756022Z",
     "shell.execute_reply": "2024-02-02T19:23:10.755196Z"
    },
    "papermill": {
     "duration": 1.686828,
     "end_time": "2024-02-02T19:23:10.758454",
     "exception": false,
     "start_time": "2024-02-02T19:23:09.071626",
     "status": "completed"
    },
    "tags": []
   },
   "outputs": [
    {
     "data": {
      "text/html": [
       "<div>\n",
       "<style scoped>\n",
       "    .dataframe tbody tr th:only-of-type {\n",
       "        vertical-align: middle;\n",
       "    }\n",
       "\n",
       "    .dataframe tbody tr th {\n",
       "        vertical-align: top;\n",
       "    }\n",
       "\n",
       "    .dataframe thead th {\n",
       "        text-align: right;\n",
       "    }\n",
       "</style>\n",
       "<table border=\"1\" class=\"dataframe\">\n",
       "  <thead>\n",
       "    <tr style=\"text-align: right;\">\n",
       "      <th></th>\n",
       "      <th>pixel0</th>\n",
       "      <th>pixel1</th>\n",
       "      <th>pixel2</th>\n",
       "      <th>pixel3</th>\n",
       "      <th>pixel4</th>\n",
       "      <th>pixel5</th>\n",
       "      <th>pixel6</th>\n",
       "      <th>pixel7</th>\n",
       "      <th>pixel8</th>\n",
       "      <th>pixel9</th>\n",
       "      <th>...</th>\n",
       "      <th>pixel774</th>\n",
       "      <th>pixel775</th>\n",
       "      <th>pixel776</th>\n",
       "      <th>pixel777</th>\n",
       "      <th>pixel778</th>\n",
       "      <th>pixel779</th>\n",
       "      <th>pixel780</th>\n",
       "      <th>pixel781</th>\n",
       "      <th>pixel782</th>\n",
       "      <th>pixel783</th>\n",
       "    </tr>\n",
       "  </thead>\n",
       "  <tbody>\n",
       "    <tr>\n",
       "      <th>0</th>\n",
       "      <td>0</td>\n",
       "      <td>0</td>\n",
       "      <td>0</td>\n",
       "      <td>0</td>\n",
       "      <td>0</td>\n",
       "      <td>0</td>\n",
       "      <td>0</td>\n",
       "      <td>0</td>\n",
       "      <td>0</td>\n",
       "      <td>0</td>\n",
       "      <td>...</td>\n",
       "      <td>0</td>\n",
       "      <td>0</td>\n",
       "      <td>0</td>\n",
       "      <td>0</td>\n",
       "      <td>0</td>\n",
       "      <td>0</td>\n",
       "      <td>0</td>\n",
       "      <td>0</td>\n",
       "      <td>0</td>\n",
       "      <td>0</td>\n",
       "    </tr>\n",
       "    <tr>\n",
       "      <th>1</th>\n",
       "      <td>0</td>\n",
       "      <td>0</td>\n",
       "      <td>0</td>\n",
       "      <td>0</td>\n",
       "      <td>0</td>\n",
       "      <td>0</td>\n",
       "      <td>0</td>\n",
       "      <td>0</td>\n",
       "      <td>0</td>\n",
       "      <td>0</td>\n",
       "      <td>...</td>\n",
       "      <td>0</td>\n",
       "      <td>0</td>\n",
       "      <td>0</td>\n",
       "      <td>0</td>\n",
       "      <td>0</td>\n",
       "      <td>0</td>\n",
       "      <td>0</td>\n",
       "      <td>0</td>\n",
       "      <td>0</td>\n",
       "      <td>0</td>\n",
       "    </tr>\n",
       "    <tr>\n",
       "      <th>2</th>\n",
       "      <td>0</td>\n",
       "      <td>0</td>\n",
       "      <td>0</td>\n",
       "      <td>0</td>\n",
       "      <td>0</td>\n",
       "      <td>0</td>\n",
       "      <td>0</td>\n",
       "      <td>0</td>\n",
       "      <td>0</td>\n",
       "      <td>0</td>\n",
       "      <td>...</td>\n",
       "      <td>0</td>\n",
       "      <td>0</td>\n",
       "      <td>0</td>\n",
       "      <td>0</td>\n",
       "      <td>0</td>\n",
       "      <td>0</td>\n",
       "      <td>0</td>\n",
       "      <td>0</td>\n",
       "      <td>0</td>\n",
       "      <td>0</td>\n",
       "    </tr>\n",
       "    <tr>\n",
       "      <th>3</th>\n",
       "      <td>0</td>\n",
       "      <td>0</td>\n",
       "      <td>0</td>\n",
       "      <td>0</td>\n",
       "      <td>0</td>\n",
       "      <td>0</td>\n",
       "      <td>0</td>\n",
       "      <td>0</td>\n",
       "      <td>0</td>\n",
       "      <td>0</td>\n",
       "      <td>...</td>\n",
       "      <td>0</td>\n",
       "      <td>0</td>\n",
       "      <td>0</td>\n",
       "      <td>0</td>\n",
       "      <td>0</td>\n",
       "      <td>0</td>\n",
       "      <td>0</td>\n",
       "      <td>0</td>\n",
       "      <td>0</td>\n",
       "      <td>0</td>\n",
       "    </tr>\n",
       "    <tr>\n",
       "      <th>4</th>\n",
       "      <td>0</td>\n",
       "      <td>0</td>\n",
       "      <td>0</td>\n",
       "      <td>0</td>\n",
       "      <td>0</td>\n",
       "      <td>0</td>\n",
       "      <td>0</td>\n",
       "      <td>0</td>\n",
       "      <td>0</td>\n",
       "      <td>0</td>\n",
       "      <td>...</td>\n",
       "      <td>0</td>\n",
       "      <td>0</td>\n",
       "      <td>0</td>\n",
       "      <td>0</td>\n",
       "      <td>0</td>\n",
       "      <td>0</td>\n",
       "      <td>0</td>\n",
       "      <td>0</td>\n",
       "      <td>0</td>\n",
       "      <td>0</td>\n",
       "    </tr>\n",
       "    <tr>\n",
       "      <th>...</th>\n",
       "      <td>...</td>\n",
       "      <td>...</td>\n",
       "      <td>...</td>\n",
       "      <td>...</td>\n",
       "      <td>...</td>\n",
       "      <td>...</td>\n",
       "      <td>...</td>\n",
       "      <td>...</td>\n",
       "      <td>...</td>\n",
       "      <td>...</td>\n",
       "      <td>...</td>\n",
       "      <td>...</td>\n",
       "      <td>...</td>\n",
       "      <td>...</td>\n",
       "      <td>...</td>\n",
       "      <td>...</td>\n",
       "      <td>...</td>\n",
       "      <td>...</td>\n",
       "      <td>...</td>\n",
       "      <td>...</td>\n",
       "      <td>...</td>\n",
       "    </tr>\n",
       "    <tr>\n",
       "      <th>27995</th>\n",
       "      <td>0</td>\n",
       "      <td>0</td>\n",
       "      <td>0</td>\n",
       "      <td>0</td>\n",
       "      <td>0</td>\n",
       "      <td>0</td>\n",
       "      <td>0</td>\n",
       "      <td>0</td>\n",
       "      <td>0</td>\n",
       "      <td>0</td>\n",
       "      <td>...</td>\n",
       "      <td>0</td>\n",
       "      <td>0</td>\n",
       "      <td>0</td>\n",
       "      <td>0</td>\n",
       "      <td>0</td>\n",
       "      <td>0</td>\n",
       "      <td>0</td>\n",
       "      <td>0</td>\n",
       "      <td>0</td>\n",
       "      <td>0</td>\n",
       "    </tr>\n",
       "    <tr>\n",
       "      <th>27996</th>\n",
       "      <td>0</td>\n",
       "      <td>0</td>\n",
       "      <td>0</td>\n",
       "      <td>0</td>\n",
       "      <td>0</td>\n",
       "      <td>0</td>\n",
       "      <td>0</td>\n",
       "      <td>0</td>\n",
       "      <td>0</td>\n",
       "      <td>0</td>\n",
       "      <td>...</td>\n",
       "      <td>0</td>\n",
       "      <td>0</td>\n",
       "      <td>0</td>\n",
       "      <td>0</td>\n",
       "      <td>0</td>\n",
       "      <td>0</td>\n",
       "      <td>0</td>\n",
       "      <td>0</td>\n",
       "      <td>0</td>\n",
       "      <td>0</td>\n",
       "    </tr>\n",
       "    <tr>\n",
       "      <th>27997</th>\n",
       "      <td>0</td>\n",
       "      <td>0</td>\n",
       "      <td>0</td>\n",
       "      <td>0</td>\n",
       "      <td>0</td>\n",
       "      <td>0</td>\n",
       "      <td>0</td>\n",
       "      <td>0</td>\n",
       "      <td>0</td>\n",
       "      <td>0</td>\n",
       "      <td>...</td>\n",
       "      <td>0</td>\n",
       "      <td>0</td>\n",
       "      <td>0</td>\n",
       "      <td>0</td>\n",
       "      <td>0</td>\n",
       "      <td>0</td>\n",
       "      <td>0</td>\n",
       "      <td>0</td>\n",
       "      <td>0</td>\n",
       "      <td>0</td>\n",
       "    </tr>\n",
       "    <tr>\n",
       "      <th>27998</th>\n",
       "      <td>0</td>\n",
       "      <td>0</td>\n",
       "      <td>0</td>\n",
       "      <td>0</td>\n",
       "      <td>0</td>\n",
       "      <td>0</td>\n",
       "      <td>0</td>\n",
       "      <td>0</td>\n",
       "      <td>0</td>\n",
       "      <td>0</td>\n",
       "      <td>...</td>\n",
       "      <td>0</td>\n",
       "      <td>0</td>\n",
       "      <td>0</td>\n",
       "      <td>0</td>\n",
       "      <td>0</td>\n",
       "      <td>0</td>\n",
       "      <td>0</td>\n",
       "      <td>0</td>\n",
       "      <td>0</td>\n",
       "      <td>0</td>\n",
       "    </tr>\n",
       "    <tr>\n",
       "      <th>27999</th>\n",
       "      <td>0</td>\n",
       "      <td>0</td>\n",
       "      <td>0</td>\n",
       "      <td>0</td>\n",
       "      <td>0</td>\n",
       "      <td>0</td>\n",
       "      <td>0</td>\n",
       "      <td>0</td>\n",
       "      <td>0</td>\n",
       "      <td>0</td>\n",
       "      <td>...</td>\n",
       "      <td>0</td>\n",
       "      <td>0</td>\n",
       "      <td>0</td>\n",
       "      <td>0</td>\n",
       "      <td>0</td>\n",
       "      <td>0</td>\n",
       "      <td>0</td>\n",
       "      <td>0</td>\n",
       "      <td>0</td>\n",
       "      <td>0</td>\n",
       "    </tr>\n",
       "  </tbody>\n",
       "</table>\n",
       "<p>28000 rows × 784 columns</p>\n",
       "</div>"
      ],
      "text/plain": [
       "       pixel0  pixel1  pixel2  pixel3  pixel4  pixel5  pixel6  pixel7  pixel8  \\\n",
       "0           0       0       0       0       0       0       0       0       0   \n",
       "1           0       0       0       0       0       0       0       0       0   \n",
       "2           0       0       0       0       0       0       0       0       0   \n",
       "3           0       0       0       0       0       0       0       0       0   \n",
       "4           0       0       0       0       0       0       0       0       0   \n",
       "...       ...     ...     ...     ...     ...     ...     ...     ...     ...   \n",
       "27995       0       0       0       0       0       0       0       0       0   \n",
       "27996       0       0       0       0       0       0       0       0       0   \n",
       "27997       0       0       0       0       0       0       0       0       0   \n",
       "27998       0       0       0       0       0       0       0       0       0   \n",
       "27999       0       0       0       0       0       0       0       0       0   \n",
       "\n",
       "       pixel9  ...  pixel774  pixel775  pixel776  pixel777  pixel778  \\\n",
       "0           0  ...         0         0         0         0         0   \n",
       "1           0  ...         0         0         0         0         0   \n",
       "2           0  ...         0         0         0         0         0   \n",
       "3           0  ...         0         0         0         0         0   \n",
       "4           0  ...         0         0         0         0         0   \n",
       "...       ...  ...       ...       ...       ...       ...       ...   \n",
       "27995       0  ...         0         0         0         0         0   \n",
       "27996       0  ...         0         0         0         0         0   \n",
       "27997       0  ...         0         0         0         0         0   \n",
       "27998       0  ...         0         0         0         0         0   \n",
       "27999       0  ...         0         0         0         0         0   \n",
       "\n",
       "       pixel779  pixel780  pixel781  pixel782  pixel783  \n",
       "0             0         0         0         0         0  \n",
       "1             0         0         0         0         0  \n",
       "2             0         0         0         0         0  \n",
       "3             0         0         0         0         0  \n",
       "4             0         0         0         0         0  \n",
       "...         ...       ...       ...       ...       ...  \n",
       "27995         0         0         0         0         0  \n",
       "27996         0         0         0         0         0  \n",
       "27997         0         0         0         0         0  \n",
       "27998         0         0         0         0         0  \n",
       "27999         0         0         0         0         0  \n",
       "\n",
       "[28000 rows x 784 columns]"
      ]
     },
     "execution_count": 23,
     "metadata": {},
     "output_type": "execute_result"
    }
   ],
   "source": [
    "test_df = pd.read_csv('/kaggle/input/digit-recognizer/test.csv')\n",
    "test_df"
   ]
  },
  {
   "cell_type": "code",
   "execution_count": 24,
   "id": "b9efd59a",
   "metadata": {
    "execution": {
     "iopub.execute_input": "2024-02-02T19:23:10.785351Z",
     "iopub.status.busy": "2024-02-02T19:23:10.785000Z",
     "iopub.status.idle": "2024-02-02T19:23:10.826207Z",
     "shell.execute_reply": "2024-02-02T19:23:10.825251Z"
    },
    "papermill": {
     "duration": 0.055105,
     "end_time": "2024-02-02T19:23:10.828646",
     "exception": false,
     "start_time": "2024-02-02T19:23:10.773541",
     "status": "completed"
    },
    "tags": []
   },
   "outputs": [],
   "source": [
    "# Separate Label and Features\n",
    "\n",
    "y_train_full = train_df['label']\n",
    "X_train_full = train_df.drop(columns = ['label'], axis = 1)"
   ]
  },
  {
   "cell_type": "code",
   "execution_count": 25,
   "id": "8ef13214",
   "metadata": {
    "execution": {
     "iopub.execute_input": "2024-02-02T19:23:10.849938Z",
     "iopub.status.busy": "2024-02-02T19:23:10.849617Z",
     "iopub.status.idle": "2024-02-02T19:23:10.855500Z",
     "shell.execute_reply": "2024-02-02T19:23:10.854465Z"
    },
    "papermill": {
     "duration": 0.019654,
     "end_time": "2024-02-02T19:23:10.858402",
     "exception": false,
     "start_time": "2024-02-02T19:23:10.838748",
     "status": "completed"
    },
    "tags": []
   },
   "outputs": [
    {
     "data": {
      "text/plain": [
       "(42000, 784)"
      ]
     },
     "execution_count": 25,
     "metadata": {},
     "output_type": "execute_result"
    }
   ],
   "source": [
    "# Check shape of features\n",
    "\n",
    "X_train_full.shape"
   ]
  },
  {
   "cell_type": "code",
   "execution_count": 26,
   "id": "7e813f90",
   "metadata": {
    "execution": {
     "iopub.execute_input": "2024-02-02T19:23:10.881013Z",
     "iopub.status.busy": "2024-02-02T19:23:10.880639Z",
     "iopub.status.idle": "2024-02-02T19:23:10.887835Z",
     "shell.execute_reply": "2024-02-02T19:23:10.886281Z"
    },
    "papermill": {
     "duration": 0.02064,
     "end_time": "2024-02-02T19:23:10.889991",
     "exception": false,
     "start_time": "2024-02-02T19:23:10.869351",
     "status": "completed"
    },
    "tags": []
   },
   "outputs": [],
   "source": [
    "# Consider last 5000 records for validation dataset\n",
    "\n",
    "X_train, y_train = X_train_full[:-5000], y_train_full[:-5000]\n",
    "X_valid, y_valid = X_train_full[-5000:], y_train_full[-5000:]"
   ]
  },
  {
   "cell_type": "code",
   "execution_count": 27,
   "id": "3515cd02",
   "metadata": {
    "execution": {
     "iopub.execute_input": "2024-02-02T19:23:10.911760Z",
     "iopub.status.busy": "2024-02-02T19:23:10.911423Z",
     "iopub.status.idle": "2024-02-02T19:23:10.991886Z",
     "shell.execute_reply": "2024-02-02T19:23:10.989970Z"
    },
    "papermill": {
     "duration": 0.09417,
     "end_time": "2024-02-02T19:23:10.994451",
     "exception": false,
     "start_time": "2024-02-02T19:23:10.900281",
     "status": "completed"
    },
    "tags": []
   },
   "outputs": [],
   "source": [
    "# Normalize training, validation and test dataset\n",
    "\n",
    "X_train, X_valid, test_df = X_train / 255.0, X_valid / 255.0, test_df / 255.0"
   ]
  },
  {
   "cell_type": "code",
   "execution_count": 28,
   "id": "66cc6f23",
   "metadata": {
    "execution": {
     "iopub.execute_input": "2024-02-02T19:23:11.022085Z",
     "iopub.status.busy": "2024-02-02T19:23:11.021725Z",
     "iopub.status.idle": "2024-02-02T19:23:11.027315Z",
     "shell.execute_reply": "2024-02-02T19:23:11.026446Z"
    },
    "papermill": {
     "duration": 0.023126,
     "end_time": "2024-02-02T19:23:11.030243",
     "exception": false,
     "start_time": "2024-02-02T19:23:11.007117",
     "status": "completed"
    },
    "tags": []
   },
   "outputs": [
    {
     "name": "stdout",
     "output_type": "stream",
     "text": [
      "(37000, 784)\n",
      "(5000, 784)\n",
      "(28000, 784)\n"
     ]
    }
   ],
   "source": [
    "# Check shape of training, validation and test dataset\n",
    "\n",
    "print(X_train.shape)\n",
    "print(X_valid.shape)\n",
    "print(test_df.shape)"
   ]
  },
  {
   "cell_type": "code",
   "execution_count": 29,
   "id": "eeb83166",
   "metadata": {
    "execution": {
     "iopub.execute_input": "2024-02-02T19:23:11.054701Z",
     "iopub.status.busy": "2024-02-02T19:23:11.054332Z",
     "iopub.status.idle": "2024-02-02T19:23:11.059869Z",
     "shell.execute_reply": "2024-02-02T19:23:11.058967Z"
    },
    "papermill": {
     "duration": 0.018474,
     "end_time": "2024-02-02T19:23:11.061907",
     "exception": false,
     "start_time": "2024-02-02T19:23:11.043433",
     "status": "completed"
    },
    "tags": []
   },
   "outputs": [
    {
     "name": "stdout",
     "output_type": "stream",
     "text": [
      "(37000, 28, 28, 1)\n",
      "(5000, 28, 28, 1)\n",
      "(28000, 28, 28, 1)\n"
     ]
    }
   ],
   "source": [
    "# Reshape datasets to apply CNN\n",
    "\n",
    "X_train = X_train.values.reshape(-1, 28, 28, 1)\n",
    "X_valid = X_valid.values.reshape(-1, 28, 28, 1)\n",
    "test_df = test_df.values.reshape(-1, 28, 28, 1)\n",
    "\n",
    "# Recheck the shape of all datasets\n",
    "\n",
    "print(X_train.shape)\n",
    "print(X_valid.shape)\n",
    "print(test_df.shape)"
   ]
  },
  {
   "cell_type": "code",
   "execution_count": 30,
   "id": "5934de95",
   "metadata": {
    "execution": {
     "iopub.execute_input": "2024-02-02T19:23:11.084961Z",
     "iopub.status.busy": "2024-02-02T19:23:11.084419Z",
     "iopub.status.idle": "2024-02-02T19:23:11.091347Z",
     "shell.execute_reply": "2024-02-02T19:23:11.089592Z"
    },
    "papermill": {
     "duration": 0.021383,
     "end_time": "2024-02-02T19:23:11.093947",
     "exception": false,
     "start_time": "2024-02-02T19:23:11.072564",
     "status": "completed"
    },
    "tags": []
   },
   "outputs": [],
   "source": [
    "# Label Encoding\n",
    "\n",
    "from tensorflow.keras.utils import to_categorical\n",
    "\n",
    "y_train = to_categorical(y_train, num_classes = 10)\n",
    "y_valid = to_categorical(y_valid, num_classes = 10)"
   ]
  },
  {
   "cell_type": "code",
   "execution_count": 31,
   "id": "18cadddf",
   "metadata": {
    "execution": {
     "iopub.execute_input": "2024-02-02T19:23:11.116722Z",
     "iopub.status.busy": "2024-02-02T19:23:11.116190Z",
     "iopub.status.idle": "2024-02-02T19:23:11.347437Z",
     "shell.execute_reply": "2024-02-02T19:23:11.346599Z"
    },
    "papermill": {
     "duration": 0.244972,
     "end_time": "2024-02-02T19:23:11.349576",
     "exception": false,
     "start_time": "2024-02-02T19:23:11.104604",
     "status": "completed"
    },
    "tags": []
   },
   "outputs": [],
   "source": [
    "# Build model\n",
    "\n",
    "model = Sequential()\n",
    "model.add(InputLayer(input_shape = [28, 28, 1]))\n",
    "\n",
    "model.add(Conv2D(32, (3,3), activation = 'elu', kernel_initializer = 'he_normal')),\n",
    "model.add(MaxPooling2D((2,2))),\n",
    "model.add(Dropout(0.2)),\n",
    "\n",
    "model.add(Conv2D(64, (3,3), activation = 'elu', kernel_initializer = 'he_normal')),\n",
    "model.add(MaxPooling2D((2,2))),\n",
    "model.add(Dropout(0.2)),\n",
    "\n",
    "model.add(Flatten()),\n",
    "model.add(Dense(800, activation = 'elu', kernel_initializer = 'he_normal')),\n",
    "model.add(Dropout(0.2)),\n",
    "model.add(Dense(400, activation = 'elu', kernel_initializer = 'he_normal')),\n",
    "model.add(Dropout(0.2)),\n",
    "model.add(Dense(200, activation = 'elu', kernel_initializer = 'he_normal')),\n",
    "model.add(Dropout(0.2)),\n",
    "model.add(Dense(100, activation = 'elu', kernel_initializer = 'he_normal')),\n",
    "model.add(Dropout(0.2)),\n",
    "model.add(Dense(10, activation = 'sigmoid'))"
   ]
  },
  {
   "cell_type": "code",
   "execution_count": 32,
   "id": "b3fda64d",
   "metadata": {
    "execution": {
     "iopub.execute_input": "2024-02-02T19:23:11.372239Z",
     "iopub.status.busy": "2024-02-02T19:23:11.371731Z",
     "iopub.status.idle": "2024-02-02T19:23:11.419095Z",
     "shell.execute_reply": "2024-02-02T19:23:11.417698Z"
    },
    "papermill": {
     "duration": 0.064166,
     "end_time": "2024-02-02T19:23:11.424055",
     "exception": false,
     "start_time": "2024-02-02T19:23:11.359889",
     "status": "completed"
    },
    "tags": []
   },
   "outputs": [
    {
     "name": "stdout",
     "output_type": "stream",
     "text": [
      "Model: \"sequential\"\n",
      "_________________________________________________________________\n",
      " Layer (type)                Output Shape              Param #   \n",
      "=================================================================\n",
      " conv2d (Conv2D)             (None, 26, 26, 32)        320       \n",
      "                                                                 \n",
      " max_pooling2d (MaxPooling2  (None, 13, 13, 32)        0         \n",
      " D)                                                              \n",
      "                                                                 \n",
      " dropout (Dropout)           (None, 13, 13, 32)        0         \n",
      "                                                                 \n",
      " conv2d_1 (Conv2D)           (None, 11, 11, 64)        18496     \n",
      "                                                                 \n",
      " max_pooling2d_1 (MaxPoolin  (None, 5, 5, 64)          0         \n",
      " g2D)                                                            \n",
      "                                                                 \n",
      " dropout_1 (Dropout)         (None, 5, 5, 64)          0         \n",
      "                                                                 \n",
      " flatten (Flatten)           (None, 1600)              0         \n",
      "                                                                 \n",
      " dense (Dense)               (None, 800)               1280800   \n",
      "                                                                 \n",
      " dropout_2 (Dropout)         (None, 800)               0         \n",
      "                                                                 \n",
      " dense_1 (Dense)             (None, 400)               320400    \n",
      "                                                                 \n",
      " dropout_3 (Dropout)         (None, 400)               0         \n",
      "                                                                 \n",
      " dense_2 (Dense)             (None, 200)               80200     \n",
      "                                                                 \n",
      " dropout_4 (Dropout)         (None, 200)               0         \n",
      "                                                                 \n",
      " dense_3 (Dense)             (None, 100)               20100     \n",
      "                                                                 \n",
      " dropout_5 (Dropout)         (None, 100)               0         \n",
      "                                                                 \n",
      " dense_4 (Dense)             (None, 10)                1010      \n",
      "                                                                 \n",
      "=================================================================\n",
      "Total params: 1721326 (6.57 MB)\n",
      "Trainable params: 1721326 (6.57 MB)\n",
      "Non-trainable params: 0 (0.00 Byte)\n",
      "_________________________________________________________________\n"
     ]
    }
   ],
   "source": [
    "# Model summary\n",
    "\n",
    "model.summary()"
   ]
  },
  {
   "cell_type": "code",
   "execution_count": 33,
   "id": "46458ecd",
   "metadata": {
    "execution": {
     "iopub.execute_input": "2024-02-02T19:23:11.451083Z",
     "iopub.status.busy": "2024-02-02T19:23:11.450751Z",
     "iopub.status.idle": "2024-02-02T19:23:11.471273Z",
     "shell.execute_reply": "2024-02-02T19:23:11.469896Z"
    },
    "papermill": {
     "duration": 0.03694,
     "end_time": "2024-02-02T19:23:11.473624",
     "exception": false,
     "start_time": "2024-02-02T19:23:11.436684",
     "status": "completed"
    },
    "tags": []
   },
   "outputs": [],
   "source": [
    "# Set optimizer and compile the model\n",
    "\n",
    "opt = optimizers.SGD(learning_rate = 0.01, momentum = 0.9, nesterov = True)\n",
    "model.compile(optimizer = opt, loss = 'categorical_crossentropy', metrics = ['accuracy'])"
   ]
  },
  {
   "cell_type": "code",
   "execution_count": 34,
   "id": "ac65e8a3",
   "metadata": {
    "execution": {
     "iopub.execute_input": "2024-02-02T19:23:11.501884Z",
     "iopub.status.busy": "2024-02-02T19:23:11.501489Z",
     "iopub.status.idle": "2024-02-02T19:23:11.507734Z",
     "shell.execute_reply": "2024-02-02T19:23:11.506474Z"
    },
    "papermill": {
     "duration": 0.022741,
     "end_time": "2024-02-02T19:23:11.509862",
     "exception": false,
     "start_time": "2024-02-02T19:23:11.487121",
     "status": "completed"
    },
    "tags": []
   },
   "outputs": [],
   "source": [
    "# Implement Callbacks\n",
    "\n",
    "\n",
    "early_stopping = EarlyStopping(monitor = 'val_loss', patience = 5, restore_best_weights = True)\n",
    "reduce_lr = ReduceLROnPlateau(monitor = 'val_loss', factor = 0.2, patience = 2, min_lr = 0.0001)\n",
    "model_checkpoint = ModelCheckpoint(\"my_checkpoints\", save_best_only = True, monitor = 'val_loss', mode = 'min')"
   ]
  },
  {
   "cell_type": "code",
   "execution_count": 35,
   "id": "89c88ab8",
   "metadata": {
    "execution": {
     "iopub.execute_input": "2024-02-02T19:23:11.591696Z",
     "iopub.status.busy": "2024-02-02T19:23:11.591354Z",
     "iopub.status.idle": "2024-02-02T19:31:05.106306Z",
     "shell.execute_reply": "2024-02-02T19:31:05.105238Z"
    },
    "papermill": {
     "duration": 473.531782,
     "end_time": "2024-02-02T19:31:05.108578",
     "exception": false,
     "start_time": "2024-02-02T19:23:11.576796",
     "status": "completed"
    },
    "tags": []
   },
   "outputs": [
    {
     "name": "stdout",
     "output_type": "stream",
     "text": [
      "Epoch 1/30\n",
      "1157/1157 [==============================] - 30s 25ms/step - loss: 0.2773 - accuracy: 0.9203 - val_loss: 0.0852 - val_accuracy: 0.9740 - lr: 0.0100\n",
      "Epoch 2/30\n",
      "1157/1157 [==============================] - 28s 24ms/step - loss: 0.1117 - accuracy: 0.9672 - val_loss: 0.0709 - val_accuracy: 0.9810 - lr: 0.0100\n",
      "Epoch 3/30\n",
      "1157/1157 [==============================] - 28s 24ms/step - loss: 0.0879 - accuracy: 0.9743 - val_loss: 0.0558 - val_accuracy: 0.9846 - lr: 0.0100\n",
      "Epoch 4/30\n",
      "1157/1157 [==============================] - 27s 23ms/step - loss: 0.0698 - accuracy: 0.9793 - val_loss: 0.0642 - val_accuracy: 0.9834 - lr: 0.0100\n",
      "Epoch 5/30\n",
      "1157/1157 [==============================] - 29s 25ms/step - loss: 0.0642 - accuracy: 0.9817 - val_loss: 0.0498 - val_accuracy: 0.9842 - lr: 0.0100\n",
      "Epoch 6/30\n",
      "1157/1157 [==============================] - 27s 23ms/step - loss: 0.0537 - accuracy: 0.9839 - val_loss: 0.0534 - val_accuracy: 0.9834 - lr: 0.0100\n",
      "Epoch 7/30\n",
      "1157/1157 [==============================] - 28s 24ms/step - loss: 0.0513 - accuracy: 0.9849 - val_loss: 0.0435 - val_accuracy: 0.9874 - lr: 0.0100\n",
      "Epoch 8/30\n",
      "1157/1157 [==============================] - 28s 24ms/step - loss: 0.0416 - accuracy: 0.9871 - val_loss: 0.0470 - val_accuracy: 0.9878 - lr: 0.0100\n",
      "Epoch 9/30\n",
      "1157/1157 [==============================] - 27s 24ms/step - loss: 0.0428 - accuracy: 0.9872 - val_loss: 0.0473 - val_accuracy: 0.9884 - lr: 0.0100\n",
      "Epoch 10/30\n",
      "1157/1157 [==============================] - 29s 25ms/step - loss: 0.0248 - accuracy: 0.9919 - val_loss: 0.0359 - val_accuracy: 0.9908 - lr: 0.0020\n",
      "Epoch 11/30\n",
      "1157/1157 [==============================] - 28s 24ms/step - loss: 0.0193 - accuracy: 0.9941 - val_loss: 0.0392 - val_accuracy: 0.9900 - lr: 0.0020\n",
      "Epoch 12/30\n",
      "1157/1157 [==============================] - 29s 25ms/step - loss: 0.0172 - accuracy: 0.9944 - val_loss: 0.0323 - val_accuracy: 0.9918 - lr: 0.0020\n",
      "Epoch 13/30\n",
      "1157/1157 [==============================] - 27s 23ms/step - loss: 0.0175 - accuracy: 0.9944 - val_loss: 0.0360 - val_accuracy: 0.9906 - lr: 0.0020\n",
      "Epoch 14/30\n",
      "1157/1157 [==============================] - 27s 23ms/step - loss: 0.0162 - accuracy: 0.9950 - val_loss: 0.0343 - val_accuracy: 0.9906 - lr: 0.0020\n",
      "Epoch 15/30\n",
      "1157/1157 [==============================] - 27s 23ms/step - loss: 0.0138 - accuracy: 0.9957 - val_loss: 0.0342 - val_accuracy: 0.9902 - lr: 4.0000e-04\n",
      "Epoch 16/30\n",
      "1157/1157 [==============================] - 27s 23ms/step - loss: 0.0131 - accuracy: 0.9956 - val_loss: 0.0335 - val_accuracy: 0.9902 - lr: 4.0000e-04\n",
      "Epoch 17/30\n",
      "1157/1157 [==============================] - 27s 23ms/step - loss: 0.0141 - accuracy: 0.9956 - val_loss: 0.0335 - val_accuracy: 0.9900 - lr: 1.0000e-04\n"
     ]
    }
   ],
   "source": [
    "# Train the model\n",
    "\n",
    "history = model.fit(X_train, y_train, epochs = 30, validation_data = (X_valid, y_valid), callbacks = [early_stopping, reduce_lr, model_checkpoint])"
   ]
  },
  {
   "cell_type": "code",
   "execution_count": 36,
   "id": "055daa85",
   "metadata": {
    "execution": {
     "iopub.execute_input": "2024-02-02T19:31:05.928424Z",
     "iopub.status.busy": "2024-02-02T19:31:05.927795Z",
     "iopub.status.idle": "2024-02-02T19:31:13.062174Z",
     "shell.execute_reply": "2024-02-02T19:31:13.061463Z"
    },
    "papermill": {
     "duration": 7.547265,
     "end_time": "2024-02-02T19:31:13.064493",
     "exception": false,
     "start_time": "2024-02-02T19:31:05.517228",
     "status": "completed"
    },
    "tags": []
   },
   "outputs": [
    {
     "name": "stdout",
     "output_type": "stream",
     "text": [
      "875/875 [==============================] - 7s 7ms/step\n"
     ]
    }
   ],
   "source": [
    "y_pred = model.predict(test_df)"
   ]
  },
  {
   "cell_type": "code",
   "execution_count": 37,
   "id": "94d60c4d",
   "metadata": {
    "execution": {
     "iopub.execute_input": "2024-02-02T19:31:13.956251Z",
     "iopub.status.busy": "2024-02-02T19:31:13.955476Z",
     "iopub.status.idle": "2024-02-02T19:31:13.962435Z",
     "shell.execute_reply": "2024-02-02T19:31:13.961584Z"
    },
    "papermill": {
     "duration": 0.48377,
     "end_time": "2024-02-02T19:31:13.964058",
     "exception": false,
     "start_time": "2024-02-02T19:31:13.480288",
     "status": "completed"
    },
    "tags": []
   },
   "outputs": [
    {
     "data": {
      "text/plain": [
       "array([2, 0, 9, 9, 3])"
      ]
     },
     "execution_count": 37,
     "metadata": {},
     "output_type": "execute_result"
    }
   ],
   "source": [
    "predicted_class = np.argmax(y_pred, axis = 1)\n",
    "predicted_class[:5]"
   ]
  },
  {
   "cell_type": "code",
   "execution_count": 38,
   "id": "dee50ab0",
   "metadata": {
    "execution": {
     "iopub.execute_input": "2024-02-02T19:31:14.799963Z",
     "iopub.status.busy": "2024-02-02T19:31:14.799615Z",
     "iopub.status.idle": "2024-02-02T19:31:14.806910Z",
     "shell.execute_reply": "2024-02-02T19:31:14.806176Z"
    },
    "papermill": {
     "duration": 0.424042,
     "end_time": "2024-02-02T19:31:14.808656",
     "exception": false,
     "start_time": "2024-02-02T19:31:14.384614",
     "status": "completed"
    },
    "tags": []
   },
   "outputs": [
    {
     "data": {
      "text/plain": [
       "0        2\n",
       "1        0\n",
       "2        9\n",
       "3        9\n",
       "4        3\n",
       "        ..\n",
       "27995    9\n",
       "27996    7\n",
       "27997    3\n",
       "27998    9\n",
       "27999    2\n",
       "Name: Label, Length: 28000, dtype: int64"
      ]
     },
     "execution_count": 38,
     "metadata": {},
     "output_type": "execute_result"
    }
   ],
   "source": [
    "results = pd.Series(predicted_class, name = \"Label\")\n",
    "results"
   ]
  },
  {
   "cell_type": "code",
   "execution_count": 39,
   "id": "0525a8d5",
   "metadata": {
    "execution": {
     "iopub.execute_input": "2024-02-02T19:31:15.698323Z",
     "iopub.status.busy": "2024-02-02T19:31:15.698009Z",
     "iopub.status.idle": "2024-02-02T19:31:15.708281Z",
     "shell.execute_reply": "2024-02-02T19:31:15.707573Z"
    },
    "papermill": {
     "duration": 0.426771,
     "end_time": "2024-02-02T19:31:15.710519",
     "exception": false,
     "start_time": "2024-02-02T19:31:15.283748",
     "status": "completed"
    },
    "tags": []
   },
   "outputs": [
    {
     "data": {
      "text/html": [
       "<div>\n",
       "<style scoped>\n",
       "    .dataframe tbody tr th:only-of-type {\n",
       "        vertical-align: middle;\n",
       "    }\n",
       "\n",
       "    .dataframe tbody tr th {\n",
       "        vertical-align: top;\n",
       "    }\n",
       "\n",
       "    .dataframe thead th {\n",
       "        text-align: right;\n",
       "    }\n",
       "</style>\n",
       "<table border=\"1\" class=\"dataframe\">\n",
       "  <thead>\n",
       "    <tr style=\"text-align: right;\">\n",
       "      <th></th>\n",
       "      <th>ImageId</th>\n",
       "      <th>Label</th>\n",
       "    </tr>\n",
       "  </thead>\n",
       "  <tbody>\n",
       "    <tr>\n",
       "      <th>0</th>\n",
       "      <td>1</td>\n",
       "      <td>2</td>\n",
       "    </tr>\n",
       "    <tr>\n",
       "      <th>1</th>\n",
       "      <td>2</td>\n",
       "      <td>0</td>\n",
       "    </tr>\n",
       "    <tr>\n",
       "      <th>2</th>\n",
       "      <td>3</td>\n",
       "      <td>9</td>\n",
       "    </tr>\n",
       "    <tr>\n",
       "      <th>3</th>\n",
       "      <td>4</td>\n",
       "      <td>9</td>\n",
       "    </tr>\n",
       "    <tr>\n",
       "      <th>4</th>\n",
       "      <td>5</td>\n",
       "      <td>3</td>\n",
       "    </tr>\n",
       "    <tr>\n",
       "      <th>...</th>\n",
       "      <td>...</td>\n",
       "      <td>...</td>\n",
       "    </tr>\n",
       "    <tr>\n",
       "      <th>27995</th>\n",
       "      <td>27996</td>\n",
       "      <td>9</td>\n",
       "    </tr>\n",
       "    <tr>\n",
       "      <th>27996</th>\n",
       "      <td>27997</td>\n",
       "      <td>7</td>\n",
       "    </tr>\n",
       "    <tr>\n",
       "      <th>27997</th>\n",
       "      <td>27998</td>\n",
       "      <td>3</td>\n",
       "    </tr>\n",
       "    <tr>\n",
       "      <th>27998</th>\n",
       "      <td>27999</td>\n",
       "      <td>9</td>\n",
       "    </tr>\n",
       "    <tr>\n",
       "      <th>27999</th>\n",
       "      <td>28000</td>\n",
       "      <td>2</td>\n",
       "    </tr>\n",
       "  </tbody>\n",
       "</table>\n",
       "<p>28000 rows × 2 columns</p>\n",
       "</div>"
      ],
      "text/plain": [
       "       ImageId  Label\n",
       "0            1      2\n",
       "1            2      0\n",
       "2            3      9\n",
       "3            4      9\n",
       "4            5      3\n",
       "...        ...    ...\n",
       "27995    27996      9\n",
       "27996    27997      7\n",
       "27997    27998      3\n",
       "27998    27999      9\n",
       "27999    28000      2\n",
       "\n",
       "[28000 rows x 2 columns]"
      ]
     },
     "execution_count": 39,
     "metadata": {},
     "output_type": "execute_result"
    }
   ],
   "source": [
    "submission = pd.concat([pd.Series(range(1, 28001), name = \"ImageId\"), results], axis = 1)\n",
    "submission"
   ]
  },
  {
   "cell_type": "code",
   "execution_count": 40,
   "id": "e63e21d0",
   "metadata": {
    "execution": {
     "iopub.execute_input": "2024-02-02T19:31:16.608032Z",
     "iopub.status.busy": "2024-02-02T19:31:16.607506Z",
     "iopub.status.idle": "2024-02-02T19:31:16.632380Z",
     "shell.execute_reply": "2024-02-02T19:31:16.630922Z"
    },
    "papermill": {
     "duration": 0.51129,
     "end_time": "2024-02-02T19:31:16.634992",
     "exception": false,
     "start_time": "2024-02-02T19:31:16.123702",
     "status": "completed"
    },
    "tags": []
   },
   "outputs": [],
   "source": [
    "submission.to_csv(\"submission.csv\", index = False)"
   ]
  }
 ],
 "metadata": {
  "kaggle": {
   "accelerator": "none",
   "dataSources": [
    {
     "databundleVersionId": 861823,
     "sourceId": 3004,
     "sourceType": "competition"
    }
   ],
   "dockerImageVersionId": 30646,
   "isGpuEnabled": false,
   "isInternetEnabled": true,
   "language": "python",
   "sourceType": "notebook"
  },
  "kernelspec": {
   "display_name": "Python 3",
   "language": "python",
   "name": "python3"
  },
  "language_info": {
   "codemirror_mode": {
    "name": "ipython",
    "version": 3
   },
   "file_extension": ".py",
   "mimetype": "text/x-python",
   "name": "python",
   "nbconvert_exporter": "python",
   "pygments_lexer": "ipython3",
   "version": "3.10.13"
  },
  "papermill": {
   "default_parameters": {},
   "duration": 637.342015,
   "end_time": "2024-02-02T19:31:18.876877",
   "environment_variables": {},
   "exception": null,
   "input_path": "__notebook__.ipynb",
   "output_path": "__notebook__.ipynb",
   "parameters": {},
   "start_time": "2024-02-02T19:20:41.534862",
   "version": "2.5.0"
  }
 },
 "nbformat": 4,
 "nbformat_minor": 5
}
