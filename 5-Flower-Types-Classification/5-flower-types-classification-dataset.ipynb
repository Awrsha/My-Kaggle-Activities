{
 "cells": [
  {
   "cell_type": "code",
   "execution_count": 1,
   "id": "124564e6",
   "metadata": {
    "_cell_guid": "b1076dfc-b9ad-4769-8c92-a6c4dae69d19",
    "_uuid": "8f2839f25d086af736a60e9eeb907d3b93b6e0e5",
    "execution": {
     "iopub.execute_input": "2024-02-04T18:22:32.417197Z",
     "iopub.status.busy": "2024-02-04T18:22:32.416783Z",
     "iopub.status.idle": "2024-02-04T18:25:07.128959Z",
     "shell.execute_reply": "2024-02-04T18:25:07.127742Z"
    },
    "papermill": {
     "duration": 154.722872,
     "end_time": "2024-02-04T18:25:07.132355",
     "exception": false,
     "start_time": "2024-02-04T18:22:32.409483",
     "status": "completed"
    },
    "tags": []
   },
   "outputs": [
    {
     "name": "stdout",
     "output_type": "stream",
     "text": [
      "Requirement already satisfied: tensorflow in /opt/conda/lib/python3.10/site-packages (2.15.0)\r\n",
      "Collecting tensorflow\r\n",
      "  Downloading tensorflow-2.15.0.post1-cp310-cp310-manylinux_2_17_x86_64.manylinux2014_x86_64.whl.metadata (4.2 kB)\r\n",
      "Requirement already satisfied: absl-py>=1.0.0 in /opt/conda/lib/python3.10/site-packages (from tensorflow) (1.4.0)\r\n",
      "Requirement already satisfied: astunparse>=1.6.0 in /opt/conda/lib/python3.10/site-packages (from tensorflow) (1.6.3)\r\n",
      "Requirement already satisfied: flatbuffers>=23.5.26 in /opt/conda/lib/python3.10/site-packages (from tensorflow) (23.5.26)\r\n",
      "Requirement already satisfied: gast!=0.5.0,!=0.5.1,!=0.5.2,>=0.2.1 in /opt/conda/lib/python3.10/site-packages (from tensorflow) (0.5.4)\r\n",
      "Requirement already satisfied: google-pasta>=0.1.1 in /opt/conda/lib/python3.10/site-packages (from tensorflow) (0.2.0)\r\n",
      "Requirement already satisfied: h5py>=2.9.0 in /opt/conda/lib/python3.10/site-packages (from tensorflow) (3.10.0)\r\n",
      "Requirement already satisfied: libclang>=13.0.0 in /opt/conda/lib/python3.10/site-packages (from tensorflow) (16.0.6)\r\n",
      "Requirement already satisfied: ml-dtypes~=0.2.0 in /opt/conda/lib/python3.10/site-packages (from tensorflow) (0.2.0)\r\n",
      "Requirement already satisfied: numpy<2.0.0,>=1.23.5 in /opt/conda/lib/python3.10/site-packages (from tensorflow) (1.24.4)\r\n",
      "Requirement already satisfied: opt-einsum>=2.3.2 in /opt/conda/lib/python3.10/site-packages (from tensorflow) (3.3.0)\r\n",
      "Requirement already satisfied: packaging in /opt/conda/lib/python3.10/site-packages (from tensorflow) (21.3)\r\n",
      "Requirement already satisfied: protobuf!=4.21.0,!=4.21.1,!=4.21.2,!=4.21.3,!=4.21.4,!=4.21.5,<5.0.0dev,>=3.20.3 in /opt/conda/lib/python3.10/site-packages (from tensorflow) (3.20.3)\r\n",
      "Requirement already satisfied: setuptools in /opt/conda/lib/python3.10/site-packages (from tensorflow) (69.0.3)\r\n",
      "Requirement already satisfied: six>=1.12.0 in /opt/conda/lib/python3.10/site-packages (from tensorflow) (1.16.0)\r\n",
      "Requirement already satisfied: termcolor>=1.1.0 in /opt/conda/lib/python3.10/site-packages (from tensorflow) (2.4.0)\r\n",
      "Requirement already satisfied: typing-extensions>=3.6.6 in /opt/conda/lib/python3.10/site-packages (from tensorflow) (4.9.0)\r\n",
      "Requirement already satisfied: wrapt<1.15,>=1.11.0 in /opt/conda/lib/python3.10/site-packages (from tensorflow) (1.14.1)\r\n",
      "Requirement already satisfied: tensorflow-io-gcs-filesystem>=0.23.1 in /opt/conda/lib/python3.10/site-packages (from tensorflow) (0.35.0)\r\n",
      "Requirement already satisfied: grpcio<2.0,>=1.24.3 in /opt/conda/lib/python3.10/site-packages (from tensorflow) (1.60.0)\r\n",
      "Requirement already satisfied: tensorboard<2.16,>=2.15 in /opt/conda/lib/python3.10/site-packages (from tensorflow) (2.15.1)\r\n",
      "Requirement already satisfied: tensorflow-estimator<2.16,>=2.15.0 in /opt/conda/lib/python3.10/site-packages (from tensorflow) (2.15.0)\r\n",
      "Requirement already satisfied: keras<2.16,>=2.15.0 in /opt/conda/lib/python3.10/site-packages (from tensorflow) (2.15.0)\r\n",
      "Requirement already satisfied: wheel<1.0,>=0.23.0 in /opt/conda/lib/python3.10/site-packages (from astunparse>=1.6.0->tensorflow) (0.42.0)\r\n",
      "Requirement already satisfied: google-auth<3,>=1.6.3 in /opt/conda/lib/python3.10/site-packages (from tensorboard<2.16,>=2.15->tensorflow) (2.26.1)\r\n",
      "Requirement already satisfied: google-auth-oauthlib<2,>=0.5 in /opt/conda/lib/python3.10/site-packages (from tensorboard<2.16,>=2.15->tensorflow) (1.2.0)\r\n",
      "Requirement already satisfied: markdown>=2.6.8 in /opt/conda/lib/python3.10/site-packages (from tensorboard<2.16,>=2.15->tensorflow) (3.5.2)\r\n",
      "Requirement already satisfied: requests<3,>=2.21.0 in /opt/conda/lib/python3.10/site-packages (from tensorboard<2.16,>=2.15->tensorflow) (2.31.0)\r\n",
      "Requirement already satisfied: tensorboard-data-server<0.8.0,>=0.7.0 in /opt/conda/lib/python3.10/site-packages (from tensorboard<2.16,>=2.15->tensorflow) (0.7.2)\r\n",
      "Requirement already satisfied: werkzeug>=1.0.1 in /opt/conda/lib/python3.10/site-packages (from tensorboard<2.16,>=2.15->tensorflow) (3.0.1)\r\n",
      "Requirement already satisfied: pyparsing!=3.0.5,>=2.0.2 in /opt/conda/lib/python3.10/site-packages (from packaging->tensorflow) (3.1.1)\r\n",
      "Requirement already satisfied: cachetools<6.0,>=2.0.0 in /opt/conda/lib/python3.10/site-packages (from google-auth<3,>=1.6.3->tensorboard<2.16,>=2.15->tensorflow) (4.2.4)\r\n",
      "Requirement already satisfied: pyasn1-modules>=0.2.1 in /opt/conda/lib/python3.10/site-packages (from google-auth<3,>=1.6.3->tensorboard<2.16,>=2.15->tensorflow) (0.3.0)\r\n",
      "Requirement already satisfied: rsa<5,>=3.1.4 in /opt/conda/lib/python3.10/site-packages (from google-auth<3,>=1.6.3->tensorboard<2.16,>=2.15->tensorflow) (4.9)\r\n",
      "Requirement already satisfied: requests-oauthlib>=0.7.0 in /opt/conda/lib/python3.10/site-packages (from google-auth-oauthlib<2,>=0.5->tensorboard<2.16,>=2.15->tensorflow) (1.3.1)\r\n",
      "Requirement already satisfied: charset-normalizer<4,>=2 in /opt/conda/lib/python3.10/site-packages (from requests<3,>=2.21.0->tensorboard<2.16,>=2.15->tensorflow) (3.3.2)\r\n",
      "Requirement already satisfied: idna<4,>=2.5 in /opt/conda/lib/python3.10/site-packages (from requests<3,>=2.21.0->tensorboard<2.16,>=2.15->tensorflow) (3.6)\r\n",
      "Requirement already satisfied: urllib3<3,>=1.21.1 in /opt/conda/lib/python3.10/site-packages (from requests<3,>=2.21.0->tensorboard<2.16,>=2.15->tensorflow) (1.26.18)\r\n",
      "Requirement already satisfied: certifi>=2017.4.17 in /opt/conda/lib/python3.10/site-packages (from requests<3,>=2.21.0->tensorboard<2.16,>=2.15->tensorflow) (2023.11.17)\r\n",
      "Requirement already satisfied: MarkupSafe>=2.1.1 in /opt/conda/lib/python3.10/site-packages (from werkzeug>=1.0.1->tensorboard<2.16,>=2.15->tensorflow) (2.1.3)\r\n",
      "Requirement already satisfied: pyasn1<0.6.0,>=0.4.6 in /opt/conda/lib/python3.10/site-packages (from pyasn1-modules>=0.2.1->google-auth<3,>=1.6.3->tensorboard<2.16,>=2.15->tensorflow) (0.5.1)\r\n",
      "Requirement already satisfied: oauthlib>=3.0.0 in /opt/conda/lib/python3.10/site-packages (from requests-oauthlib>=0.7.0->google-auth-oauthlib<2,>=0.5->tensorboard<2.16,>=2.15->tensorflow) (3.2.2)\r\n",
      "Downloading tensorflow-2.15.0.post1-cp310-cp310-manylinux_2_17_x86_64.manylinux2014_x86_64.whl (475.2 MB)\r\n",
      "\u001b[2K   \u001b[90m━━━━━━━━━━━━━━━━━━━━━━━━━━━━━━━━━━━━━━━━\u001b[0m \u001b[32m475.2/475.2 MB\u001b[0m \u001b[31m3.0 MB/s\u001b[0m eta \u001b[36m0:00:00\u001b[0m\r\n",
      "\u001b[?25hInstalling collected packages: tensorflow\r\n",
      "  Attempting uninstall: tensorflow\r\n",
      "    Found existing installation: tensorflow 2.15.0\r\n",
      "    Uninstalling tensorflow-2.15.0:\r\n",
      "      Successfully uninstalled tensorflow-2.15.0\r\n",
      "\u001b[31mERROR: pip's dependency resolver does not currently take into account all the packages that are installed. This behaviour is the source of the following dependency conflicts.\r\n",
      "tensorflowjs 4.16.0 requires packaging~=23.1, but you have packaging 21.3 which is incompatible.\u001b[0m\u001b[31m\r\n",
      "\u001b[0mSuccessfully installed tensorflow-2.15.0.post1\r\n"
     ]
    },
    {
     "name": "stderr",
     "output_type": "stream",
     "text": [
      "2024-02-04 18:23:51.770064: E external/local_xla/xla/stream_executor/cuda/cuda_dnn.cc:9261] Unable to register cuDNN factory: Attempting to register factory for plugin cuDNN when one has already been registered\n",
      "2024-02-04 18:23:51.770217: E external/local_xla/xla/stream_executor/cuda/cuda_fft.cc:607] Unable to register cuFFT factory: Attempting to register factory for plugin cuFFT when one has already been registered\n",
      "2024-02-04 18:23:51.773761: E external/local_xla/xla/stream_executor/cuda/cuda_blas.cc:1515] Unable to register cuBLAS factory: Attempting to register factory for plugin cuBLAS when one has already been registered\n"
     ]
    },
    {
     "name": "stdout",
     "output_type": "stream",
     "text": [
      "Requirement already satisfied: tensorflow==2.15.0.post1 in /opt/conda/lib/python3.10/site-packages (2.15.0.post1)\r\n",
      "Requirement already satisfied: absl-py>=1.0.0 in /opt/conda/lib/python3.10/site-packages (from tensorflow==2.15.0.post1) (1.4.0)\r\n",
      "Requirement already satisfied: astunparse>=1.6.0 in /opt/conda/lib/python3.10/site-packages (from tensorflow==2.15.0.post1) (1.6.3)\r\n",
      "Requirement already satisfied: flatbuffers>=23.5.26 in /opt/conda/lib/python3.10/site-packages (from tensorflow==2.15.0.post1) (23.5.26)\r\n",
      "Requirement already satisfied: gast!=0.5.0,!=0.5.1,!=0.5.2,>=0.2.1 in /opt/conda/lib/python3.10/site-packages (from tensorflow==2.15.0.post1) (0.5.4)\r\n",
      "Requirement already satisfied: google-pasta>=0.1.1 in /opt/conda/lib/python3.10/site-packages (from tensorflow==2.15.0.post1) (0.2.0)\r\n",
      "Requirement already satisfied: h5py>=2.9.0 in /opt/conda/lib/python3.10/site-packages (from tensorflow==2.15.0.post1) (3.10.0)\r\n",
      "Requirement already satisfied: libclang>=13.0.0 in /opt/conda/lib/python3.10/site-packages (from tensorflow==2.15.0.post1) (16.0.6)\r\n",
      "Requirement already satisfied: ml-dtypes~=0.2.0 in /opt/conda/lib/python3.10/site-packages (from tensorflow==2.15.0.post1) (0.2.0)\r\n",
      "Requirement already satisfied: numpy<2.0.0,>=1.23.5 in /opt/conda/lib/python3.10/site-packages (from tensorflow==2.15.0.post1) (1.24.4)\r\n",
      "Requirement already satisfied: opt-einsum>=2.3.2 in /opt/conda/lib/python3.10/site-packages (from tensorflow==2.15.0.post1) (3.3.0)\r\n",
      "Requirement already satisfied: packaging in /opt/conda/lib/python3.10/site-packages (from tensorflow==2.15.0.post1) (21.3)\r\n",
      "Requirement already satisfied: protobuf!=4.21.0,!=4.21.1,!=4.21.2,!=4.21.3,!=4.21.4,!=4.21.5,<5.0.0dev,>=3.20.3 in /opt/conda/lib/python3.10/site-packages (from tensorflow==2.15.0.post1) (3.20.3)\r\n",
      "Requirement already satisfied: setuptools in /opt/conda/lib/python3.10/site-packages (from tensorflow==2.15.0.post1) (69.0.3)\r\n",
      "Requirement already satisfied: six>=1.12.0 in /opt/conda/lib/python3.10/site-packages (from tensorflow==2.15.0.post1) (1.16.0)\r\n",
      "Requirement already satisfied: termcolor>=1.1.0 in /opt/conda/lib/python3.10/site-packages (from tensorflow==2.15.0.post1) (2.4.0)\r\n",
      "Requirement already satisfied: typing-extensions>=3.6.6 in /opt/conda/lib/python3.10/site-packages (from tensorflow==2.15.0.post1) (4.9.0)\r\n",
      "Requirement already satisfied: wrapt<1.15,>=1.11.0 in /opt/conda/lib/python3.10/site-packages (from tensorflow==2.15.0.post1) (1.14.1)\r\n",
      "Requirement already satisfied: tensorflow-io-gcs-filesystem>=0.23.1 in /opt/conda/lib/python3.10/site-packages (from tensorflow==2.15.0.post1) (0.35.0)\r\n",
      "Requirement already satisfied: grpcio<2.0,>=1.24.3 in /opt/conda/lib/python3.10/site-packages (from tensorflow==2.15.0.post1) (1.60.0)\r\n",
      "Requirement already satisfied: tensorboard<2.16,>=2.15 in /opt/conda/lib/python3.10/site-packages (from tensorflow==2.15.0.post1) (2.15.1)\r\n",
      "Requirement already satisfied: tensorflow-estimator<2.16,>=2.15.0 in /opt/conda/lib/python3.10/site-packages (from tensorflow==2.15.0.post1) (2.15.0)\r\n",
      "Requirement already satisfied: keras<2.16,>=2.15.0 in /opt/conda/lib/python3.10/site-packages (from tensorflow==2.15.0.post1) (2.15.0)\r\n",
      "Requirement already satisfied: wheel<1.0,>=0.23.0 in /opt/conda/lib/python3.10/site-packages (from astunparse>=1.6.0->tensorflow==2.15.0.post1) (0.42.0)\r\n",
      "Requirement already satisfied: google-auth<3,>=1.6.3 in /opt/conda/lib/python3.10/site-packages (from tensorboard<2.16,>=2.15->tensorflow==2.15.0.post1) (2.26.1)\r\n",
      "Requirement already satisfied: google-auth-oauthlib<2,>=0.5 in /opt/conda/lib/python3.10/site-packages (from tensorboard<2.16,>=2.15->tensorflow==2.15.0.post1) (1.2.0)\r\n",
      "Requirement already satisfied: markdown>=2.6.8 in /opt/conda/lib/python3.10/site-packages (from tensorboard<2.16,>=2.15->tensorflow==2.15.0.post1) (3.5.2)\r\n",
      "Requirement already satisfied: requests<3,>=2.21.0 in /opt/conda/lib/python3.10/site-packages (from tensorboard<2.16,>=2.15->tensorflow==2.15.0.post1) (2.31.0)\r\n",
      "Requirement already satisfied: tensorboard-data-server<0.8.0,>=0.7.0 in /opt/conda/lib/python3.10/site-packages (from tensorboard<2.16,>=2.15->tensorflow==2.15.0.post1) (0.7.2)\r\n",
      "Requirement already satisfied: werkzeug>=1.0.1 in /opt/conda/lib/python3.10/site-packages (from tensorboard<2.16,>=2.15->tensorflow==2.15.0.post1) (3.0.1)\r\n",
      "Requirement already satisfied: pyparsing!=3.0.5,>=2.0.2 in /opt/conda/lib/python3.10/site-packages (from packaging->tensorflow==2.15.0.post1) (3.1.1)\r\n",
      "Requirement already satisfied: cachetools<6.0,>=2.0.0 in /opt/conda/lib/python3.10/site-packages (from google-auth<3,>=1.6.3->tensorboard<2.16,>=2.15->tensorflow==2.15.0.post1) (4.2.4)\r\n",
      "Requirement already satisfied: pyasn1-modules>=0.2.1 in /opt/conda/lib/python3.10/site-packages (from google-auth<3,>=1.6.3->tensorboard<2.16,>=2.15->tensorflow==2.15.0.post1) (0.3.0)\r\n",
      "Requirement already satisfied: rsa<5,>=3.1.4 in /opt/conda/lib/python3.10/site-packages (from google-auth<3,>=1.6.3->tensorboard<2.16,>=2.15->tensorflow==2.15.0.post1) (4.9)\r\n",
      "Requirement already satisfied: requests-oauthlib>=0.7.0 in /opt/conda/lib/python3.10/site-packages (from google-auth-oauthlib<2,>=0.5->tensorboard<2.16,>=2.15->tensorflow==2.15.0.post1) (1.3.1)\r\n",
      "Requirement already satisfied: charset-normalizer<4,>=2 in /opt/conda/lib/python3.10/site-packages (from requests<3,>=2.21.0->tensorboard<2.16,>=2.15->tensorflow==2.15.0.post1) (3.3.2)\r\n",
      "Requirement already satisfied: idna<4,>=2.5 in /opt/conda/lib/python3.10/site-packages (from requests<3,>=2.21.0->tensorboard<2.16,>=2.15->tensorflow==2.15.0.post1) (3.6)\r\n",
      "Requirement already satisfied: urllib3<3,>=1.21.1 in /opt/conda/lib/python3.10/site-packages (from requests<3,>=2.21.0->tensorboard<2.16,>=2.15->tensorflow==2.15.0.post1) (1.26.18)\r\n",
      "Requirement already satisfied: certifi>=2017.4.17 in /opt/conda/lib/python3.10/site-packages (from requests<3,>=2.21.0->tensorboard<2.16,>=2.15->tensorflow==2.15.0.post1) (2023.11.17)\r\n",
      "Requirement already satisfied: MarkupSafe>=2.1.1 in /opt/conda/lib/python3.10/site-packages (from werkzeug>=1.0.1->tensorboard<2.16,>=2.15->tensorflow==2.15.0.post1) (2.1.3)\r\n",
      "Requirement already satisfied: pyasn1<0.6.0,>=0.4.6 in /opt/conda/lib/python3.10/site-packages (from pyasn1-modules>=0.2.1->google-auth<3,>=1.6.3->tensorboard<2.16,>=2.15->tensorflow==2.15.0.post1) (0.5.1)\r\n",
      "Requirement already satisfied: oauthlib>=3.0.0 in /opt/conda/lib/python3.10/site-packages (from requests-oauthlib>=0.7.0->google-auth-oauthlib<2,>=0.5->tensorboard<2.16,>=2.15->tensorflow==2.15.0.post1) (3.2.2)\r\n",
      "Collecting packaging==23.2\r\n",
      "  Downloading packaging-23.2-py3-none-any.whl.metadata (3.2 kB)\r\n",
      "Downloading packaging-23.2-py3-none-any.whl (53 kB)\r\n",
      "\u001b[2K   \u001b[90m━━━━━━━━━━━━━━━━━━━━━━━━━━━━━━━━━━━━━━━━\u001b[0m \u001b[32m53.0/53.0 kB\u001b[0m \u001b[31m1.9 MB/s\u001b[0m eta \u001b[36m0:00:00\u001b[0m\r\n",
      "\u001b[?25hInstalling collected packages: packaging\r\n",
      "  Attempting uninstall: packaging\r\n",
      "    Found existing installation: packaging 21.3\r\n",
      "    Uninstalling packaging-21.3:\r\n",
      "      Successfully uninstalled packaging-21.3\r\n",
      "\u001b[31mERROR: pip's dependency resolver does not currently take into account all the packages that are installed. This behaviour is the source of the following dependency conflicts.\r\n",
      "google-cloud-bigquery 2.34.4 requires packaging<22.0dev,>=14.3, but you have packaging 23.2 which is incompatible.\r\n",
      "jupyterlab 4.0.11 requires jupyter-lsp>=2.0.0, but you have jupyter-lsp 1.5.1 which is incompatible.\r\n",
      "jupyterlab-lsp 5.0.2 requires jupyter-lsp>=2.0.0, but you have jupyter-lsp 1.5.1 which is incompatible.\r\n",
      "libpysal 4.9.2 requires shapely>=2.0.1, but you have shapely 1.8.5.post1 which is incompatible.\r\n",
      "momepy 0.7.0 requires shapely>=2, but you have shapely 1.8.5.post1 which is incompatible.\r\n",
      "osmnx 1.8.1 requires shapely>=2.0, but you have shapely 1.8.5.post1 which is incompatible.\r\n",
      "spopt 0.6.0 requires shapely>=2.0.1, but you have shapely 1.8.5.post1 which is incompatible.\u001b[0m\u001b[31m\r\n",
      "\u001b[0mSuccessfully installed packaging-23.2\r\n",
      "Collecting shapely==2.0.2\r\n",
      "  Downloading shapely-2.0.2-cp310-cp310-manylinux_2_17_x86_64.manylinux2014_x86_64.whl.metadata (7.0 kB)\r\n",
      "Requirement already satisfied: numpy>=1.14 in /opt/conda/lib/python3.10/site-packages (from shapely==2.0.2) (1.24.4)\r\n",
      "Downloading shapely-2.0.2-cp310-cp310-manylinux_2_17_x86_64.manylinux2014_x86_64.whl (2.5 MB)\r\n",
      "\u001b[2K   \u001b[90m━━━━━━━━━━━━━━━━━━━━━━━━━━━━━━━━━━━━━━━━\u001b[0m \u001b[32m2.5/2.5 MB\u001b[0m \u001b[31m27.3 MB/s\u001b[0m eta \u001b[36m0:00:00\u001b[0m\r\n",
      "\u001b[?25hInstalling collected packages: shapely\r\n",
      "  Attempting uninstall: shapely\r\n",
      "    Found existing installation: Shapely 1.8.5.post1\r\n",
      "    Uninstalling Shapely-1.8.5.post1:\r\n",
      "      Successfully uninstalled Shapely-1.8.5.post1\r\n",
      "Successfully installed shapely-2.0.2\r\n",
      "Requirement already satisfied: jupyter-lsp in /opt/conda/lib/python3.10/site-packages (1.5.1)\r\n",
      "Collecting jupyter-lsp\r\n",
      "  Downloading jupyter_lsp-2.2.2-py3-none-any.whl.metadata (1.8 kB)\r\n",
      "Requirement already satisfied: jupyter-server>=1.1.2 in /opt/conda/lib/python3.10/site-packages (from jupyter-lsp) (2.12.5)\r\n",
      "Requirement already satisfied: anyio>=3.1.0 in /opt/conda/lib/python3.10/site-packages (from jupyter-server>=1.1.2->jupyter-lsp) (4.2.0)\r\n",
      "Requirement already satisfied: argon2-cffi in /opt/conda/lib/python3.10/site-packages (from jupyter-server>=1.1.2->jupyter-lsp) (23.1.0)\r\n",
      "Requirement already satisfied: jinja2 in /opt/conda/lib/python3.10/site-packages (from jupyter-server>=1.1.2->jupyter-lsp) (3.1.2)\r\n",
      "Requirement already satisfied: jupyter-client>=7.4.4 in /opt/conda/lib/python3.10/site-packages (from jupyter-server>=1.1.2->jupyter-lsp) (7.4.9)\r\n",
      "Requirement already satisfied: jupyter-core!=5.0.*,>=4.12 in /opt/conda/lib/python3.10/site-packages (from jupyter-server>=1.1.2->jupyter-lsp) (5.7.1)\r\n",
      "Requirement already satisfied: jupyter-events>=0.9.0 in /opt/conda/lib/python3.10/site-packages (from jupyter-server>=1.1.2->jupyter-lsp) (0.9.0)\r\n",
      "Requirement already satisfied: jupyter-server-terminals in /opt/conda/lib/python3.10/site-packages (from jupyter-server>=1.1.2->jupyter-lsp) (0.5.1)\r\n",
      "Requirement already satisfied: nbconvert>=6.4.4 in /opt/conda/lib/python3.10/site-packages (from jupyter-server>=1.1.2->jupyter-lsp) (6.4.5)\r\n",
      "Requirement already satisfied: nbformat>=5.3.0 in /opt/conda/lib/python3.10/site-packages (from jupyter-server>=1.1.2->jupyter-lsp) (5.9.2)\r\n",
      "Requirement already satisfied: overrides in /opt/conda/lib/python3.10/site-packages (from jupyter-server>=1.1.2->jupyter-lsp) (7.4.0)\r\n",
      "Requirement already satisfied: packaging in /opt/conda/lib/python3.10/site-packages (from jupyter-server>=1.1.2->jupyter-lsp) (23.2)\r\n",
      "Requirement already satisfied: prometheus-client in /opt/conda/lib/python3.10/site-packages (from jupyter-server>=1.1.2->jupyter-lsp) (0.19.0)\r\n",
      "Requirement already satisfied: pyzmq>=24 in /opt/conda/lib/python3.10/site-packages (from jupyter-server>=1.1.2->jupyter-lsp) (24.0.1)\r\n",
      "Requirement already satisfied: send2trash>=1.8.2 in /opt/conda/lib/python3.10/site-packages (from jupyter-server>=1.1.2->jupyter-lsp) (1.8.2)\r\n",
      "Requirement already satisfied: terminado>=0.8.3 in /opt/conda/lib/python3.10/site-packages (from jupyter-server>=1.1.2->jupyter-lsp) (0.18.0)\r\n",
      "Requirement already satisfied: tornado>=6.2.0 in /opt/conda/lib/python3.10/site-packages (from jupyter-server>=1.1.2->jupyter-lsp) (6.3.3)\r\n",
      "Requirement already satisfied: traitlets>=5.6.0 in /opt/conda/lib/python3.10/site-packages (from jupyter-server>=1.1.2->jupyter-lsp) (5.9.0)\r\n",
      "Requirement already satisfied: websocket-client in /opt/conda/lib/python3.10/site-packages (from jupyter-server>=1.1.2->jupyter-lsp) (1.7.0)\r\n",
      "Requirement already satisfied: idna>=2.8 in /opt/conda/lib/python3.10/site-packages (from anyio>=3.1.0->jupyter-server>=1.1.2->jupyter-lsp) (3.6)\r\n",
      "Requirement already satisfied: sniffio>=1.1 in /opt/conda/lib/python3.10/site-packages (from anyio>=3.1.0->jupyter-server>=1.1.2->jupyter-lsp) (1.3.0)\r\n",
      "Requirement already satisfied: exceptiongroup>=1.0.2 in /opt/conda/lib/python3.10/site-packages (from anyio>=3.1.0->jupyter-server>=1.1.2->jupyter-lsp) (1.2.0)\r\n",
      "Requirement already satisfied: typing-extensions>=4.1 in /opt/conda/lib/python3.10/site-packages (from anyio>=3.1.0->jupyter-server>=1.1.2->jupyter-lsp) (4.9.0)\r\n",
      "Requirement already satisfied: entrypoints in /opt/conda/lib/python3.10/site-packages (from jupyter-client>=7.4.4->jupyter-server>=1.1.2->jupyter-lsp) (0.4)\r\n",
      "Requirement already satisfied: nest-asyncio>=1.5.4 in /opt/conda/lib/python3.10/site-packages (from jupyter-client>=7.4.4->jupyter-server>=1.1.2->jupyter-lsp) (1.5.8)\r\n",
      "Requirement already satisfied: python-dateutil>=2.8.2 in /opt/conda/lib/python3.10/site-packages (from jupyter-client>=7.4.4->jupyter-server>=1.1.2->jupyter-lsp) (2.8.2)\r\n",
      "Requirement already satisfied: platformdirs>=2.5 in /opt/conda/lib/python3.10/site-packages (from jupyter-core!=5.0.*,>=4.12->jupyter-server>=1.1.2->jupyter-lsp) (4.1.0)\r\n",
      "Requirement already satisfied: jsonschema>=4.18.0 in /opt/conda/lib/python3.10/site-packages (from jsonschema[format-nongpl]>=4.18.0->jupyter-events>=0.9.0->jupyter-server>=1.1.2->jupyter-lsp) (4.20.0)\r\n",
      "Requirement already satisfied: python-json-logger>=2.0.4 in /opt/conda/lib/python3.10/site-packages (from jupyter-events>=0.9.0->jupyter-server>=1.1.2->jupyter-lsp) (2.0.7)\r\n",
      "Requirement already satisfied: pyyaml>=5.3 in /opt/conda/lib/python3.10/site-packages (from jupyter-events>=0.9.0->jupyter-server>=1.1.2->jupyter-lsp) (6.0.1)\r\n",
      "Requirement already satisfied: referencing in /opt/conda/lib/python3.10/site-packages (from jupyter-events>=0.9.0->jupyter-server>=1.1.2->jupyter-lsp) (0.32.1)\r\n",
      "Requirement already satisfied: rfc3339-validator in /opt/conda/lib/python3.10/site-packages (from jupyter-events>=0.9.0->jupyter-server>=1.1.2->jupyter-lsp) (0.1.4)\r\n",
      "Requirement already satisfied: rfc3986-validator>=0.1.1 in /opt/conda/lib/python3.10/site-packages (from jupyter-events>=0.9.0->jupyter-server>=1.1.2->jupyter-lsp) (0.1.1)\r\n",
      "Requirement already satisfied: mistune<2,>=0.8.1 in /opt/conda/lib/python3.10/site-packages (from nbconvert>=6.4.4->jupyter-server>=1.1.2->jupyter-lsp) (0.8.4)\r\n",
      "Requirement already satisfied: pygments>=2.4.1 in /opt/conda/lib/python3.10/site-packages (from nbconvert>=6.4.4->jupyter-server>=1.1.2->jupyter-lsp) (2.17.2)\r\n",
      "Requirement already satisfied: jupyterlab-pygments in /opt/conda/lib/python3.10/site-packages (from nbconvert>=6.4.4->jupyter-server>=1.1.2->jupyter-lsp) (0.3.0)\r\n",
      "Requirement already satisfied: bleach in /opt/conda/lib/python3.10/site-packages (from nbconvert>=6.4.4->jupyter-server>=1.1.2->jupyter-lsp) (6.1.0)\r\n",
      "Requirement already satisfied: pandocfilters>=1.4.1 in /opt/conda/lib/python3.10/site-packages (from nbconvert>=6.4.4->jupyter-server>=1.1.2->jupyter-lsp) (1.5.0)\r\n",
      "Requirement already satisfied: testpath in /opt/conda/lib/python3.10/site-packages (from nbconvert>=6.4.4->jupyter-server>=1.1.2->jupyter-lsp) (0.6.0)\r\n",
      "Requirement already satisfied: defusedxml in /opt/conda/lib/python3.10/site-packages (from nbconvert>=6.4.4->jupyter-server>=1.1.2->jupyter-lsp) (0.7.1)\r\n",
      "Requirement already satisfied: beautifulsoup4 in /opt/conda/lib/python3.10/site-packages (from nbconvert>=6.4.4->jupyter-server>=1.1.2->jupyter-lsp) (4.12.2)\r\n",
      "Requirement already satisfied: nbclient<0.6.0,>=0.5.0 in /opt/conda/lib/python3.10/site-packages (from nbconvert>=6.4.4->jupyter-server>=1.1.2->jupyter-lsp) (0.5.13)\r\n",
      "Requirement already satisfied: MarkupSafe>=2.0 in /opt/conda/lib/python3.10/site-packages (from nbconvert>=6.4.4->jupyter-server>=1.1.2->jupyter-lsp) (2.1.3)\r\n",
      "Requirement already satisfied: fastjsonschema in /opt/conda/lib/python3.10/site-packages (from nbformat>=5.3.0->jupyter-server>=1.1.2->jupyter-lsp) (2.19.1)\r\n",
      "Requirement already satisfied: ptyprocess in /opt/conda/lib/python3.10/site-packages (from terminado>=0.8.3->jupyter-server>=1.1.2->jupyter-lsp) (0.7.0)\r\n",
      "Requirement already satisfied: argon2-cffi-bindings in /opt/conda/lib/python3.10/site-packages (from argon2-cffi->jupyter-server>=1.1.2->jupyter-lsp) (21.2.0)\r\n",
      "Requirement already satisfied: attrs>=22.2.0 in /opt/conda/lib/python3.10/site-packages (from jsonschema>=4.18.0->jsonschema[format-nongpl]>=4.18.0->jupyter-events>=0.9.0->jupyter-server>=1.1.2->jupyter-lsp) (23.2.0)\r\n",
      "Requirement already satisfied: jsonschema-specifications>=2023.03.6 in /opt/conda/lib/python3.10/site-packages (from jsonschema>=4.18.0->jsonschema[format-nongpl]>=4.18.0->jupyter-events>=0.9.0->jupyter-server>=1.1.2->jupyter-lsp) (2023.12.1)\r\n",
      "Requirement already satisfied: rpds-py>=0.7.1 in /opt/conda/lib/python3.10/site-packages (from jsonschema>=4.18.0->jsonschema[format-nongpl]>=4.18.0->jupyter-events>=0.9.0->jupyter-server>=1.1.2->jupyter-lsp) (0.16.2)\r\n",
      "Requirement already satisfied: fqdn in /opt/conda/lib/python3.10/site-packages (from jsonschema[format-nongpl]>=4.18.0->jupyter-events>=0.9.0->jupyter-server>=1.1.2->jupyter-lsp) (1.5.1)\r\n",
      "Requirement already satisfied: isoduration in /opt/conda/lib/python3.10/site-packages (from jsonschema[format-nongpl]>=4.18.0->jupyter-events>=0.9.0->jupyter-server>=1.1.2->jupyter-lsp) (20.11.0)\r\n",
      "Requirement already satisfied: jsonpointer>1.13 in /opt/conda/lib/python3.10/site-packages (from jsonschema[format-nongpl]>=4.18.0->jupyter-events>=0.9.0->jupyter-server>=1.1.2->jupyter-lsp) (2.4)\r\n",
      "Requirement already satisfied: uri-template in /opt/conda/lib/python3.10/site-packages (from jsonschema[format-nongpl]>=4.18.0->jupyter-events>=0.9.0->jupyter-server>=1.1.2->jupyter-lsp) (1.3.0)\r\n",
      "Requirement already satisfied: webcolors>=1.11 in /opt/conda/lib/python3.10/site-packages (from jsonschema[format-nongpl]>=4.18.0->jupyter-events>=0.9.0->jupyter-server>=1.1.2->jupyter-lsp) (1.13)\r\n",
      "Requirement already satisfied: six>=1.5 in /opt/conda/lib/python3.10/site-packages (from python-dateutil>=2.8.2->jupyter-client>=7.4.4->jupyter-server>=1.1.2->jupyter-lsp) (1.16.0)\r\n",
      "Requirement already satisfied: cffi>=1.0.1 in /opt/conda/lib/python3.10/site-packages (from argon2-cffi-bindings->argon2-cffi->jupyter-server>=1.1.2->jupyter-lsp) (1.16.0)\r\n",
      "Requirement already satisfied: soupsieve>1.2 in /opt/conda/lib/python3.10/site-packages (from beautifulsoup4->nbconvert>=6.4.4->jupyter-server>=1.1.2->jupyter-lsp) (2.5)\r\n",
      "Requirement already satisfied: webencodings in /opt/conda/lib/python3.10/site-packages (from bleach->nbconvert>=6.4.4->jupyter-server>=1.1.2->jupyter-lsp) (0.5.1)\r\n",
      "Requirement already satisfied: pycparser in /opt/conda/lib/python3.10/site-packages (from cffi>=1.0.1->argon2-cffi-bindings->argon2-cffi->jupyter-server>=1.1.2->jupyter-lsp) (2.21)\r\n",
      "Requirement already satisfied: arrow>=0.15.0 in /opt/conda/lib/python3.10/site-packages (from isoduration->jsonschema[format-nongpl]>=4.18.0->jupyter-events>=0.9.0->jupyter-server>=1.1.2->jupyter-lsp) (1.3.0)\r\n",
      "Requirement already satisfied: types-python-dateutil>=2.8.10 in /opt/conda/lib/python3.10/site-packages (from arrow>=0.15.0->isoduration->jsonschema[format-nongpl]>=4.18.0->jupyter-events>=0.9.0->jupyter-server>=1.1.2->jupyter-lsp) (2.8.19.20240106)\r\n",
      "Downloading jupyter_lsp-2.2.2-py3-none-any.whl (68 kB)\r\n",
      "\u001b[2K   \u001b[90m━━━━━━━━━━━━━━━━━━━━━━━━━━━━━━━━━━━━━━━━\u001b[0m \u001b[32m68.8/68.8 kB\u001b[0m \u001b[31m2.4 MB/s\u001b[0m eta \u001b[36m0:00:00\u001b[0m\r\n",
      "\u001b[?25hInstalling collected packages: jupyter-lsp\r\n",
      "  Attempting uninstall: jupyter-lsp\r\n",
      "    Found existing installation: jupyter-lsp 1.5.1\r\n",
      "    Uninstalling jupyter-lsp-1.5.1:\r\n",
      "      Successfully uninstalled jupyter-lsp-1.5.1\r\n",
      "Successfully installed jupyter-lsp-2.2.2\r\n"
     ]
    }
   ],
   "source": [
    "import pandas as pd\n",
    "import os\n",
    "import numpy as np\n",
    "!pip install --upgrade tensorflow\n",
    "import tensorflow as tf\n",
    "\n",
    "# Force TensorFlow to use CPU only\n",
    "tf.config.set_visible_devices([], 'GPU')\n",
    "\n",
    "!pip install --upgrade tensorflow==2.15.0.post1\n",
    "!pip install --upgrade packaging==23.2\n",
    "!pip install --upgrade shapely==2.0.2\n",
    "!pip install --upgrade jupyter-lsp\n",
    "\n",
    "\n",
    "from sklearn.model_selection import train_test_split\n",
    "from keras.preprocessing.image import ImageDataGenerator"
   ]
  },
  {
   "cell_type": "code",
   "execution_count": 2,
   "id": "2099efde",
   "metadata": {
    "execution": {
     "iopub.execute_input": "2024-02-04T18:25:07.189762Z",
     "iopub.status.busy": "2024-02-04T18:25:07.188630Z",
     "iopub.status.idle": "2024-02-04T18:25:07.199380Z",
     "shell.execute_reply": "2024-02-04T18:25:07.197847Z"
    },
    "papermill": {
     "duration": 0.044166,
     "end_time": "2024-02-04T18:25:07.202226",
     "exception": false,
     "start_time": "2024-02-04T18:25:07.158060",
     "status": "completed"
    },
    "tags": []
   },
   "outputs": [],
   "source": [
    "# Set the path to your dataset\n",
    "data_path = '/kaggle/input/5-flower-types-classification-dataset/flower_images'\n",
    "categories = os.listdir(data_path)"
   ]
  },
  {
   "cell_type": "code",
   "execution_count": 3,
   "id": "7a21c09e",
   "metadata": {
    "execution": {
     "iopub.execute_input": "2024-02-04T18:25:07.253887Z",
     "iopub.status.busy": "2024-02-04T18:25:07.253489Z",
     "iopub.status.idle": "2024-02-04T18:25:07.258709Z",
     "shell.execute_reply": "2024-02-04T18:25:07.257427Z"
    },
    "papermill": {
     "duration": 0.034277,
     "end_time": "2024-02-04T18:25:07.261291",
     "exception": false,
     "start_time": "2024-02-04T18:25:07.227014",
     "status": "completed"
    },
    "tags": []
   },
   "outputs": [],
   "source": [
    "# Create empty lists to store file paths and corresponding labels\n",
    "X, y = [], []"
   ]
  },
  {
   "cell_type": "code",
   "execution_count": 4,
   "id": "388cd740",
   "metadata": {
    "execution": {
     "iopub.execute_input": "2024-02-04T18:25:07.313794Z",
     "iopub.status.busy": "2024-02-04T18:25:07.313346Z",
     "iopub.status.idle": "2024-02-04T18:25:07.980919Z",
     "shell.execute_reply": "2024-02-04T18:25:07.979849Z"
    },
    "papermill": {
     "duration": 0.697303,
     "end_time": "2024-02-04T18:25:07.983889",
     "exception": false,
     "start_time": "2024-02-04T18:25:07.286586",
     "status": "completed"
    },
    "tags": []
   },
   "outputs": [],
   "source": [
    "# Load file paths and labels\n",
    "for category in categories:\n",
    "    path = os.path.join(data_path, category)\n",
    "    for img in os.listdir(path):\n",
    "        img_path = os.path.join(path, img)\n",
    "        X.append(img_path)\n",
    "        y.append(category)"
   ]
  },
  {
   "cell_type": "code",
   "execution_count": 5,
   "id": "deedbfdb",
   "metadata": {
    "execution": {
     "iopub.execute_input": "2024-02-04T18:25:08.037466Z",
     "iopub.status.busy": "2024-02-04T18:25:08.037045Z",
     "iopub.status.idle": "2024-02-04T18:25:08.051357Z",
     "shell.execute_reply": "2024-02-04T18:25:08.050373Z"
    },
    "papermill": {
     "duration": 0.043545,
     "end_time": "2024-02-04T18:25:08.054267",
     "exception": false,
     "start_time": "2024-02-04T18:25:08.010722",
     "status": "completed"
    },
    "tags": []
   },
   "outputs": [],
   "source": [
    "# Split the data into training, testing, and validation sets\n",
    "X_train, X_temp, y_train, y_temp = train_test_split(X, y, test_size=0.3, random_state=101)\n",
    "X_val, X_test, y_val, y_test = train_test_split(X_temp, y_temp, test_size=0.5, random_state=101)"
   ]
  },
  {
   "cell_type": "code",
   "execution_count": 6,
   "id": "218f00d5",
   "metadata": {
    "execution": {
     "iopub.execute_input": "2024-02-04T18:25:08.106486Z",
     "iopub.status.busy": "2024-02-04T18:25:08.105823Z",
     "iopub.status.idle": "2024-02-04T18:25:08.121271Z",
     "shell.execute_reply": "2024-02-04T18:25:08.120345Z"
    },
    "papermill": {
     "duration": 0.044532,
     "end_time": "2024-02-04T18:25:08.123925",
     "exception": false,
     "start_time": "2024-02-04T18:25:08.079393",
     "status": "completed"
    },
    "tags": []
   },
   "outputs": [],
   "source": [
    "# Create DataFrames for training, testing, and validation sets\n",
    "train_df = pd.DataFrame({'FileName': X_train, 'Category': y_train})\n",
    "test_df = pd.DataFrame({'FileName': X_test, 'Category': y_test})\n",
    "val_df = pd.DataFrame({'FileName': X_val, 'Category': y_val})"
   ]
  },
  {
   "cell_type": "code",
   "execution_count": 7,
   "id": "e1f21e23",
   "metadata": {
    "execution": {
     "iopub.execute_input": "2024-02-04T18:25:08.178763Z",
     "iopub.status.busy": "2024-02-04T18:25:08.178126Z",
     "iopub.status.idle": "2024-02-04T18:25:08.184185Z",
     "shell.execute_reply": "2024-02-04T18:25:08.183270Z"
    },
    "papermill": {
     "duration": 0.036646,
     "end_time": "2024-02-04T18:25:08.186401",
     "exception": false,
     "start_time": "2024-02-04T18:25:08.149755",
     "status": "completed"
    },
    "tags": []
   },
   "outputs": [],
   "source": [
    "# Create image data generators for training, testing, and validation sets with augmentation\n",
    "train_datagen = ImageDataGenerator(rescale=1./255,\n",
    "                                   rotation_range=20,\n",
    "                                   width_shift_range=0.2,\n",
    "                                   height_shift_range=0.2,\n",
    "                                   shear_range=0.2,\n",
    "                                   zoom_range=0.2,\n",
    "                                   horizontal_flip=True,\n",
    "                                   fill_mode='nearest')\n",
    "\n",
    "test_datagen = ImageDataGenerator(rescale=1./255)"
   ]
  },
  {
   "cell_type": "code",
   "execution_count": 8,
   "id": "754b2627",
   "metadata": {
    "execution": {
     "iopub.execute_input": "2024-02-04T18:25:08.237922Z",
     "iopub.status.busy": "2024-02-04T18:25:08.237067Z",
     "iopub.status.idle": "2024-02-04T18:25:08.749741Z",
     "shell.execute_reply": "2024-02-04T18:25:08.748247Z"
    },
    "papermill": {
     "duration": 0.541324,
     "end_time": "2024-02-04T18:25:08.752437",
     "exception": false,
     "start_time": "2024-02-04T18:25:08.211113",
     "status": "completed"
    },
    "tags": []
   },
   "outputs": [
    {
     "name": "stdout",
     "output_type": "stream",
     "text": [
      "Found 3500 validated image filenames belonging to 5 classes.\n",
      "Found 750 validated image filenames belonging to 5 classes.\n",
      "Found 750 validated image filenames belonging to 5 classes.\n"
     ]
    }
   ],
   "source": [
    "training_set = train_datagen.flow_from_dataframe(train_df, x_col='FileName', y_col='Category',\n",
    "                                                 batch_size=32, class_mode='categorical', target_size=(64, 64))\n",
    "test_set = test_datagen.flow_from_dataframe(test_df, x_col='FileName', y_col='Category',\n",
    "                                            batch_size=32, class_mode='categorical', target_size=(64, 64))\n",
    "validation_set = test_datagen.flow_from_dataframe(val_df, x_col='FileName', y_col='Category',\n",
    "                                                   batch_size=32, class_mode='categorical', target_size=(64, 64))"
   ]
  },
  {
   "cell_type": "code",
   "execution_count": 9,
   "id": "b752855a",
   "metadata": {
    "execution": {
     "iopub.execute_input": "2024-02-04T18:25:08.805796Z",
     "iopub.status.busy": "2024-02-04T18:25:08.804964Z",
     "iopub.status.idle": "2024-02-04T18:25:09.124897Z",
     "shell.execute_reply": "2024-02-04T18:25:09.123991Z"
    },
    "papermill": {
     "duration": 0.349352,
     "end_time": "2024-02-04T18:25:09.127565",
     "exception": false,
     "start_time": "2024-02-04T18:25:08.778213",
     "status": "completed"
    },
    "tags": []
   },
   "outputs": [],
   "source": [
    "# Build the CNN model\n",
    "cnn = tf.keras.models.Sequential()\n",
    "cnn.add(tf.keras.layers.Conv2D(filters=32, kernel_size=3, activation='relu', input_shape=[64, 64, 3]))\n",
    "cnn.add(tf.keras.layers.MaxPool2D(pool_size=2, strides=2))\n",
    "cnn.add(tf.keras.layers.Conv2D(filters=32, kernel_size=3, activation='relu'))\n",
    "cnn.add(tf.keras.layers.MaxPool2D(pool_size=2, strides=2))\n",
    "cnn.add(tf.keras.layers.Flatten())\n",
    "cnn.add(tf.keras.layers.Dense(units=128, activation='relu'))\n",
    "cnn.add(tf.keras.layers.Dense(units=len(categories), activation='softmax'))"
   ]
  },
  {
   "cell_type": "code",
   "execution_count": 10,
   "id": "16273c30",
   "metadata": {
    "execution": {
     "iopub.execute_input": "2024-02-04T18:25:09.180428Z",
     "iopub.status.busy": "2024-02-04T18:25:09.179675Z",
     "iopub.status.idle": "2024-02-04T18:25:09.203111Z",
     "shell.execute_reply": "2024-02-04T18:25:09.201787Z"
    },
    "papermill": {
     "duration": 0.053511,
     "end_time": "2024-02-04T18:25:09.206030",
     "exception": false,
     "start_time": "2024-02-04T18:25:09.152519",
     "status": "completed"
    },
    "tags": []
   },
   "outputs": [],
   "source": [
    "# Compile the model\n",
    "cnn.compile(optimizer='adam', loss='categorical_crossentropy', metrics=['accuracy'])"
   ]
  },
  {
   "cell_type": "code",
   "execution_count": 11,
   "id": "720c36c2",
   "metadata": {
    "execution": {
     "iopub.execute_input": "2024-02-04T18:25:09.258327Z",
     "iopub.status.busy": "2024-02-04T18:25:09.257922Z",
     "iopub.status.idle": "2024-02-04T19:26:25.323001Z",
     "shell.execute_reply": "2024-02-04T19:26:25.321658Z"
    },
    "papermill": {
     "duration": 3676.094799,
     "end_time": "2024-02-04T19:26:25.325772",
     "exception": false,
     "start_time": "2024-02-04T18:25:09.230973",
     "status": "completed"
    },
    "tags": []
   },
   "outputs": [
    {
     "name": "stdout",
     "output_type": "stream",
     "text": [
      "Epoch 1/100\n",
      "110/110 [==============================] - 38s 335ms/step - loss: 1.3025 - accuracy: 0.4594 - val_loss: 1.1061 - val_accuracy: 0.5760\n",
      "Epoch 2/100\n",
      "110/110 [==============================] - 27s 242ms/step - loss: 1.1398 - accuracy: 0.5403 - val_loss: 1.0231 - val_accuracy: 0.5853\n",
      "Epoch 3/100\n",
      "110/110 [==============================] - 27s 241ms/step - loss: 1.0605 - accuracy: 0.5831 - val_loss: 0.9912 - val_accuracy: 0.6080\n",
      "Epoch 4/100\n",
      "110/110 [==============================] - 24s 220ms/step - loss: 1.0158 - accuracy: 0.5926 - val_loss: 0.9855 - val_accuracy: 0.6093\n",
      "Epoch 5/100\n",
      "110/110 [==============================] - 24s 221ms/step - loss: 0.9986 - accuracy: 0.6046 - val_loss: 0.9275 - val_accuracy: 0.6400\n",
      "Epoch 6/100\n",
      "110/110 [==============================] - 27s 242ms/step - loss: 0.9624 - accuracy: 0.6260 - val_loss: 0.8784 - val_accuracy: 0.6467\n",
      "Epoch 7/100\n",
      "110/110 [==============================] - 26s 239ms/step - loss: 0.8995 - accuracy: 0.6429 - val_loss: 0.8381 - val_accuracy: 0.6680\n",
      "Epoch 8/100\n",
      "110/110 [==============================] - 24s 220ms/step - loss: 0.8947 - accuracy: 0.6369 - val_loss: 0.8422 - val_accuracy: 0.6653\n",
      "Epoch 9/100\n",
      "110/110 [==============================] - 24s 217ms/step - loss: 0.8941 - accuracy: 0.6457 - val_loss: 0.9257 - val_accuracy: 0.6480\n",
      "Epoch 10/100\n",
      "110/110 [==============================] - 27s 244ms/step - loss: 0.8447 - accuracy: 0.6740 - val_loss: 0.8787 - val_accuracy: 0.6587\n",
      "Epoch 11/100\n",
      "110/110 [==============================] - 24s 219ms/step - loss: 0.8290 - accuracy: 0.6843 - val_loss: 0.7969 - val_accuracy: 0.6853\n",
      "Epoch 12/100\n",
      "110/110 [==============================] - 24s 218ms/step - loss: 0.8290 - accuracy: 0.6771 - val_loss: 0.7887 - val_accuracy: 0.6760\n",
      "Epoch 13/100\n",
      "110/110 [==============================] - 24s 221ms/step - loss: 0.8102 - accuracy: 0.6834 - val_loss: 0.7899 - val_accuracy: 0.6987\n",
      "Epoch 14/100\n",
      "110/110 [==============================] - 27s 241ms/step - loss: 0.7864 - accuracy: 0.6949 - val_loss: 0.8033 - val_accuracy: 0.6973\n",
      "Epoch 15/100\n",
      "110/110 [==============================] - 28s 252ms/step - loss: 0.7689 - accuracy: 0.6954 - val_loss: 0.7280 - val_accuracy: 0.7160\n",
      "Epoch 16/100\n",
      "110/110 [==============================] - 28s 250ms/step - loss: 0.7553 - accuracy: 0.7134 - val_loss: 0.7350 - val_accuracy: 0.7093\n",
      "Epoch 17/100\n",
      "110/110 [==============================] - 24s 218ms/step - loss: 0.7206 - accuracy: 0.7234 - val_loss: 0.7682 - val_accuracy: 0.7013\n",
      "Epoch 18/100\n",
      "110/110 [==============================] - 25s 222ms/step - loss: 0.7437 - accuracy: 0.7040 - val_loss: 0.8119 - val_accuracy: 0.6880\n",
      "Epoch 19/100\n",
      "110/110 [==============================] - 25s 224ms/step - loss: 0.7107 - accuracy: 0.7240 - val_loss: 0.7844 - val_accuracy: 0.7120\n",
      "Epoch 20/100\n",
      "110/110 [==============================] - 27s 241ms/step - loss: 0.6967 - accuracy: 0.7243 - val_loss: 0.7208 - val_accuracy: 0.7213\n",
      "Epoch 21/100\n",
      "110/110 [==============================] - 24s 219ms/step - loss: 0.6648 - accuracy: 0.7460 - val_loss: 0.7464 - val_accuracy: 0.7093\n",
      "Epoch 22/100\n",
      "110/110 [==============================] - 24s 217ms/step - loss: 0.6726 - accuracy: 0.7434 - val_loss: 0.7685 - val_accuracy: 0.7120\n",
      "Epoch 23/100\n",
      "110/110 [==============================] - 24s 222ms/step - loss: 0.6810 - accuracy: 0.7334 - val_loss: 0.7792 - val_accuracy: 0.7013\n",
      "Epoch 24/100\n",
      "110/110 [==============================] - 27s 244ms/step - loss: 0.6590 - accuracy: 0.7463 - val_loss: 0.8160 - val_accuracy: 0.6920\n",
      "Epoch 25/100\n",
      "110/110 [==============================] - 24s 217ms/step - loss: 0.6424 - accuracy: 0.7560 - val_loss: 0.6992 - val_accuracy: 0.7347\n",
      "Epoch 26/100\n",
      "110/110 [==============================] - 25s 226ms/step - loss: 0.6291 - accuracy: 0.7609 - val_loss: 0.7159 - val_accuracy: 0.7387\n",
      "Epoch 27/100\n",
      "110/110 [==============================] - 24s 221ms/step - loss: 0.6282 - accuracy: 0.7540 - val_loss: 0.7103 - val_accuracy: 0.7253\n",
      "Epoch 28/100\n",
      "110/110 [==============================] - 25s 224ms/step - loss: 0.6137 - accuracy: 0.7586 - val_loss: 0.6884 - val_accuracy: 0.7267\n",
      "Epoch 29/100\n",
      "110/110 [==============================] - 24s 221ms/step - loss: 0.6048 - accuracy: 0.7694 - val_loss: 0.6673 - val_accuracy: 0.7480\n",
      "Epoch 30/100\n",
      "110/110 [==============================] - 27s 244ms/step - loss: 0.5853 - accuracy: 0.7666 - val_loss: 0.6373 - val_accuracy: 0.7440\n",
      "Epoch 31/100\n",
      "110/110 [==============================] - 24s 221ms/step - loss: 0.5823 - accuracy: 0.7763 - val_loss: 0.6516 - val_accuracy: 0.7520\n",
      "Epoch 32/100\n",
      "110/110 [==============================] - 24s 218ms/step - loss: 0.5579 - accuracy: 0.7831 - val_loss: 0.7788 - val_accuracy: 0.7067\n",
      "Epoch 33/100\n",
      "110/110 [==============================] - 24s 218ms/step - loss: 0.5934 - accuracy: 0.7754 - val_loss: 0.6844 - val_accuracy: 0.7400\n",
      "Epoch 34/100\n",
      "110/110 [==============================] - 25s 224ms/step - loss: 0.5610 - accuracy: 0.7800 - val_loss: 0.7060 - val_accuracy: 0.7507\n",
      "Epoch 35/100\n",
      "110/110 [==============================] - 25s 223ms/step - loss: 0.5634 - accuracy: 0.7834 - val_loss: 0.6436 - val_accuracy: 0.7560\n",
      "Epoch 36/100\n",
      "110/110 [==============================] - 26s 232ms/step - loss: 0.5301 - accuracy: 0.7951 - val_loss: 0.7585 - val_accuracy: 0.7293\n",
      "Epoch 37/100\n",
      "110/110 [==============================] - 24s 222ms/step - loss: 0.5436 - accuracy: 0.7897 - val_loss: 0.7169 - val_accuracy: 0.7280\n",
      "Epoch 38/100\n",
      "110/110 [==============================] - 24s 222ms/step - loss: 0.5242 - accuracy: 0.7986 - val_loss: 0.7658 - val_accuracy: 0.7187\n",
      "Epoch 39/100\n",
      "110/110 [==============================] - 25s 225ms/step - loss: 0.5357 - accuracy: 0.7906 - val_loss: 0.6679 - val_accuracy: 0.7533\n",
      "Epoch 40/100\n",
      "110/110 [==============================] - 25s 222ms/step - loss: 0.5273 - accuracy: 0.8023 - val_loss: 0.7012 - val_accuracy: 0.7360\n",
      "Epoch 41/100\n",
      "110/110 [==============================] - 24s 220ms/step - loss: 0.5093 - accuracy: 0.8023 - val_loss: 0.6533 - val_accuracy: 0.7627\n",
      "Epoch 42/100\n",
      "110/110 [==============================] - 24s 219ms/step - loss: 0.5091 - accuracy: 0.8006 - val_loss: 0.7032 - val_accuracy: 0.7267\n",
      "Epoch 43/100\n",
      "110/110 [==============================] - 25s 222ms/step - loss: 0.4857 - accuracy: 0.8191 - val_loss: 0.6198 - val_accuracy: 0.7680\n",
      "Epoch 44/100\n",
      "110/110 [==============================] - 24s 220ms/step - loss: 0.4958 - accuracy: 0.8091 - val_loss: 0.6471 - val_accuracy: 0.7587\n",
      "Epoch 45/100\n",
      "110/110 [==============================] - 24s 218ms/step - loss: 0.4983 - accuracy: 0.8051 - val_loss: 0.6682 - val_accuracy: 0.7547\n",
      "Epoch 46/100\n",
      "110/110 [==============================] - 25s 222ms/step - loss: 0.4559 - accuracy: 0.8243 - val_loss: 0.6683 - val_accuracy: 0.7720\n",
      "Epoch 47/100\n",
      "110/110 [==============================] - 27s 241ms/step - loss: 0.4966 - accuracy: 0.8126 - val_loss: 0.8290 - val_accuracy: 0.7213\n",
      "Epoch 48/100\n",
      "110/110 [==============================] - 24s 221ms/step - loss: 0.4684 - accuracy: 0.8209 - val_loss: 0.6388 - val_accuracy: 0.7720\n",
      "Epoch 49/100\n",
      "110/110 [==============================] - 25s 228ms/step - loss: 0.4695 - accuracy: 0.8209 - val_loss: 0.6326 - val_accuracy: 0.7653\n",
      "Epoch 50/100\n",
      "110/110 [==============================] - 25s 228ms/step - loss: 0.4657 - accuracy: 0.8249 - val_loss: 0.7111 - val_accuracy: 0.7400\n",
      "Epoch 51/100\n",
      "110/110 [==============================] - 26s 232ms/step - loss: 0.4553 - accuracy: 0.8229 - val_loss: 0.6432 - val_accuracy: 0.7667\n",
      "Epoch 52/100\n",
      "110/110 [==============================] - 25s 230ms/step - loss: 0.4253 - accuracy: 0.8371 - val_loss: 0.6891 - val_accuracy: 0.7640\n",
      "Epoch 53/100\n",
      "110/110 [==============================] - 25s 225ms/step - loss: 0.4576 - accuracy: 0.8254 - val_loss: 0.6626 - val_accuracy: 0.7867\n",
      "Epoch 54/100\n",
      "110/110 [==============================] - 25s 225ms/step - loss: 0.4604 - accuracy: 0.8234 - val_loss: 0.6667 - val_accuracy: 0.7760\n",
      "Epoch 55/100\n",
      "110/110 [==============================] - 25s 228ms/step - loss: 0.4305 - accuracy: 0.8371 - val_loss: 0.7309 - val_accuracy: 0.7493\n",
      "Epoch 56/100\n",
      "110/110 [==============================] - 25s 231ms/step - loss: 0.4182 - accuracy: 0.8414 - val_loss: 0.7199 - val_accuracy: 0.7627\n",
      "Epoch 57/100\n",
      "110/110 [==============================] - 25s 223ms/step - loss: 0.4191 - accuracy: 0.8383 - val_loss: 0.7624 - val_accuracy: 0.7427\n",
      "Epoch 58/100\n",
      "110/110 [==============================] - 25s 228ms/step - loss: 0.4473 - accuracy: 0.8271 - val_loss: 0.6785 - val_accuracy: 0.7707\n",
      "Epoch 59/100\n",
      "110/110 [==============================] - 25s 227ms/step - loss: 0.4236 - accuracy: 0.8360 - val_loss: 0.6171 - val_accuracy: 0.7853\n",
      "Epoch 60/100\n",
      "110/110 [==============================] - 24s 220ms/step - loss: 0.3992 - accuracy: 0.8503 - val_loss: 0.6553 - val_accuracy: 0.7720\n",
      "Epoch 61/100\n",
      "110/110 [==============================] - 24s 220ms/step - loss: 0.4040 - accuracy: 0.8443 - val_loss: 0.6888 - val_accuracy: 0.7720\n",
      "Epoch 62/100\n",
      "110/110 [==============================] - 24s 217ms/step - loss: 0.4039 - accuracy: 0.8523 - val_loss: 0.7745 - val_accuracy: 0.7520\n",
      "Epoch 63/100\n",
      "110/110 [==============================] - 24s 218ms/step - loss: 0.4141 - accuracy: 0.8431 - val_loss: 0.7153 - val_accuracy: 0.7680\n",
      "Epoch 64/100\n",
      "110/110 [==============================] - 24s 216ms/step - loss: 0.4119 - accuracy: 0.8414 - val_loss: 0.7418 - val_accuracy: 0.7600\n",
      "Epoch 65/100\n",
      "110/110 [==============================] - 24s 218ms/step - loss: 0.4058 - accuracy: 0.8440 - val_loss: 0.6934 - val_accuracy: 0.7600\n",
      "Epoch 66/100\n",
      "110/110 [==============================] - 24s 219ms/step - loss: 0.3949 - accuracy: 0.8460 - val_loss: 0.6829 - val_accuracy: 0.7707\n",
      "Epoch 67/100\n",
      "110/110 [==============================] - 24s 215ms/step - loss: 0.3851 - accuracy: 0.8549 - val_loss: 0.6683 - val_accuracy: 0.7947\n",
      "Epoch 68/100\n",
      "110/110 [==============================] - 25s 224ms/step - loss: 0.3914 - accuracy: 0.8523 - val_loss: 0.6525 - val_accuracy: 0.7907\n",
      "Epoch 69/100\n",
      "110/110 [==============================] - 24s 221ms/step - loss: 0.3908 - accuracy: 0.8477 - val_loss: 0.6209 - val_accuracy: 0.7893\n",
      "Epoch 70/100\n",
      "110/110 [==============================] - 25s 227ms/step - loss: 0.3866 - accuracy: 0.8563 - val_loss: 0.5997 - val_accuracy: 0.8093\n",
      "Epoch 71/100\n",
      "110/110 [==============================] - 27s 247ms/step - loss: 0.3713 - accuracy: 0.8591 - val_loss: 0.6480 - val_accuracy: 0.8013\n",
      "Epoch 72/100\n",
      "110/110 [==============================] - 25s 222ms/step - loss: 0.3893 - accuracy: 0.8509 - val_loss: 0.5907 - val_accuracy: 0.8067\n",
      "Epoch 73/100\n",
      "110/110 [==============================] - 25s 231ms/step - loss: 0.3839 - accuracy: 0.8557 - val_loss: 0.6434 - val_accuracy: 0.7787\n",
      "Epoch 74/100\n",
      "110/110 [==============================] - 26s 235ms/step - loss: 0.3673 - accuracy: 0.8654 - val_loss: 0.7154 - val_accuracy: 0.7773\n",
      "Epoch 75/100\n",
      "110/110 [==============================] - 25s 230ms/step - loss: 0.3485 - accuracy: 0.8706 - val_loss: 0.6454 - val_accuracy: 0.7840\n",
      "Epoch 76/100\n",
      "110/110 [==============================] - 26s 232ms/step - loss: 0.3711 - accuracy: 0.8569 - val_loss: 0.6456 - val_accuracy: 0.7973\n",
      "Epoch 77/100\n",
      "110/110 [==============================] - 27s 246ms/step - loss: 0.3183 - accuracy: 0.8829 - val_loss: 0.6963 - val_accuracy: 0.7933\n",
      "Epoch 78/100\n",
      "110/110 [==============================] - 27s 250ms/step - loss: 0.3506 - accuracy: 0.8631 - val_loss: 0.6945 - val_accuracy: 0.7947\n",
      "Epoch 79/100\n",
      "110/110 [==============================] - 25s 228ms/step - loss: 0.3708 - accuracy: 0.8623 - val_loss: 0.6875 - val_accuracy: 0.7773\n",
      "Epoch 80/100\n",
      "110/110 [==============================] - 27s 246ms/step - loss: 0.3523 - accuracy: 0.8629 - val_loss: 0.6410 - val_accuracy: 0.8013\n",
      "Epoch 81/100\n",
      "110/110 [==============================] - 26s 232ms/step - loss: 0.3318 - accuracy: 0.8737 - val_loss: 0.7397 - val_accuracy: 0.7893\n",
      "Epoch 82/100\n",
      "110/110 [==============================] - 26s 235ms/step - loss: 0.3411 - accuracy: 0.8677 - val_loss: 0.6033 - val_accuracy: 0.8253\n",
      "Epoch 83/100\n",
      "110/110 [==============================] - 25s 226ms/step - loss: 0.3302 - accuracy: 0.8757 - val_loss: 0.8510 - val_accuracy: 0.7587\n",
      "Epoch 84/100\n",
      "110/110 [==============================] - 27s 250ms/step - loss: 0.3356 - accuracy: 0.8771 - val_loss: 0.7354 - val_accuracy: 0.7853\n",
      "Epoch 85/100\n",
      "110/110 [==============================] - 25s 231ms/step - loss: 0.3333 - accuracy: 0.8777 - val_loss: 0.6729 - val_accuracy: 0.8080\n",
      "Epoch 86/100\n",
      "110/110 [==============================] - 27s 243ms/step - loss: 0.3316 - accuracy: 0.8766 - val_loss: 0.6978 - val_accuracy: 0.8000\n",
      "Epoch 87/100\n",
      "110/110 [==============================] - 26s 232ms/step - loss: 0.3404 - accuracy: 0.8729 - val_loss: 0.6869 - val_accuracy: 0.8013\n",
      "Epoch 88/100\n",
      "110/110 [==============================] - 25s 230ms/step - loss: 0.3047 - accuracy: 0.8851 - val_loss: 0.7251 - val_accuracy: 0.8053\n",
      "Epoch 89/100\n",
      "110/110 [==============================] - 25s 222ms/step - loss: 0.3490 - accuracy: 0.8697 - val_loss: 0.6239 - val_accuracy: 0.8187\n",
      "Epoch 90/100\n",
      "110/110 [==============================] - 27s 246ms/step - loss: 0.3124 - accuracy: 0.8823 - val_loss: 0.6604 - val_accuracy: 0.8160\n",
      "Epoch 91/100\n",
      "110/110 [==============================] - 25s 228ms/step - loss: 0.3110 - accuracy: 0.8826 - val_loss: 0.6441 - val_accuracy: 0.8213\n",
      "Epoch 92/100\n",
      "110/110 [==============================] - 27s 244ms/step - loss: 0.2951 - accuracy: 0.8914 - val_loss: 0.8224 - val_accuracy: 0.7973\n",
      "Epoch 93/100\n",
      "110/110 [==============================] - 24s 220ms/step - loss: 0.3068 - accuracy: 0.8811 - val_loss: 0.7308 - val_accuracy: 0.7960\n",
      "Epoch 94/100\n",
      "110/110 [==============================] - 24s 218ms/step - loss: 0.3334 - accuracy: 0.8737 - val_loss: 0.7245 - val_accuracy: 0.8000\n",
      "Epoch 95/100\n",
      "110/110 [==============================] - 27s 245ms/step - loss: 0.3110 - accuracy: 0.8871 - val_loss: 0.7057 - val_accuracy: 0.8120\n",
      "Epoch 96/100\n",
      "110/110 [==============================] - 26s 239ms/step - loss: 0.3057 - accuracy: 0.8874 - val_loss: 0.7346 - val_accuracy: 0.8040\n",
      "Epoch 97/100\n",
      "110/110 [==============================] - 24s 221ms/step - loss: 0.3010 - accuracy: 0.8857 - val_loss: 0.6339 - val_accuracy: 0.8133\n",
      "Epoch 98/100\n",
      "110/110 [==============================] - 25s 226ms/step - loss: 0.3302 - accuracy: 0.8757 - val_loss: 0.7123 - val_accuracy: 0.7907\n",
      "Epoch 99/100\n",
      "110/110 [==============================] - 25s 222ms/step - loss: 0.3098 - accuracy: 0.8849 - val_loss: 0.7346 - val_accuracy: 0.8093\n",
      "Epoch 100/100\n",
      "110/110 [==============================] - 27s 245ms/step - loss: 0.2832 - accuracy: 0.8963 - val_loss: 0.6379 - val_accuracy: 0.8293\n"
     ]
    },
    {
     "data": {
      "text/plain": [
       "<keras.src.callbacks.History at 0x78828cb32110>"
      ]
     },
     "execution_count": 11,
     "metadata": {},
     "output_type": "execute_result"
    }
   ],
   "source": [
    "# Train the model\n",
    "cnn.fit(x=training_set, validation_data=validation_set, epochs=100)"
   ]
  },
  {
   "cell_type": "code",
   "execution_count": 12,
   "id": "844431ec",
   "metadata": {
    "execution": {
     "iopub.execute_input": "2024-02-04T19:26:27.651657Z",
     "iopub.status.busy": "2024-02-04T19:26:27.651047Z",
     "iopub.status.idle": "2024-02-04T19:26:35.026472Z",
     "shell.execute_reply": "2024-02-04T19:26:35.025250Z"
    },
    "papermill": {
     "duration": 8.493894,
     "end_time": "2024-02-04T19:26:35.029201",
     "exception": false,
     "start_time": "2024-02-04T19:26:26.535307",
     "status": "completed"
    },
    "tags": []
   },
   "outputs": [
    {
     "name": "stdout",
     "output_type": "stream",
     "text": [
      "24/24 [==============================] - 7s 300ms/step - loss: 0.6738 - accuracy: 0.8133\n"
     ]
    },
    {
     "data": {
      "text/plain": [
       "[0.6737871766090393, 0.8133333325386047]"
      ]
     },
     "execution_count": 12,
     "metadata": {},
     "output_type": "execute_result"
    }
   ],
   "source": [
    "# Evaluate the model on the test set\n",
    "cnn.evaluate(test_set)"
   ]
  }
 ],
 "metadata": {
  "kaggle": {
   "accelerator": "none",
   "dataSources": [
    {
     "datasetId": 3083976,
     "sourceId": 5304701,
     "sourceType": "datasetVersion"
    }
   ],
   "dockerImageVersionId": 30646,
   "isGpuEnabled": false,
   "isInternetEnabled": true,
   "language": "python",
   "sourceType": "notebook"
  },
  "kernelspec": {
   "display_name": "Python 3",
   "language": "python",
   "name": "python3"
  },
  "language_info": {
   "codemirror_mode": {
    "name": "ipython",
    "version": 3
   },
   "file_extension": ".py",
   "mimetype": "text/x-python",
   "name": "python",
   "nbconvert_exporter": "python",
   "pygments_lexer": "ipython3",
   "version": "3.10.13"
  },
  "papermill": {
   "default_parameters": {},
   "duration": 3850.172506,
   "end_time": "2024-02-04T19:26:39.399152",
   "environment_variables": {},
   "exception": null,
   "input_path": "__notebook__.ipynb",
   "output_path": "__notebook__.ipynb",
   "parameters": {},
   "start_time": "2024-02-04T18:22:29.226646",
   "version": "2.5.0"
  }
 },
 "nbformat": 4,
 "nbformat_minor": 5
}
