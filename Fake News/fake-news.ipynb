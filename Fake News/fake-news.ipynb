{
 "cells": [
  {
   "cell_type": "code",
   "execution_count": 1,
   "id": "b6462f49",
   "metadata": {
    "_cell_guid": "b1076dfc-b9ad-4769-8c92-a6c4dae69d19",
    "_uuid": "8f2839f25d086af736a60e9eeb907d3b93b6e0e5",
    "execution": {
     "iopub.execute_input": "2024-02-04T21:05:29.099800Z",
     "iopub.status.busy": "2024-02-04T21:05:29.098955Z",
     "iopub.status.idle": "2024-02-04T21:05:30.179616Z",
     "shell.execute_reply": "2024-02-04T21:05:30.178200Z"
    },
    "papermill": {
     "duration": 1.093789,
     "end_time": "2024-02-04T21:05:30.182970",
     "exception": false,
     "start_time": "2024-02-04T21:05:29.089181",
     "status": "completed"
    },
    "tags": []
   },
   "outputs": [
    {
     "name": "stdout",
     "output_type": "stream",
     "text": [
      "/kaggle/input/fake-news/submit.csv\n",
      "/kaggle/input/fake-news/train.csv\n",
      "/kaggle/input/fake-news/test.csv\n"
     ]
    }
   ],
   "source": [
    "# This Python 3 environment comes with many helpful analytics libraries installed\n",
    "# It is defined by the kaggle/python Docker image: https://github.com/kaggle/docker-python\n",
    "# For example, here's several helpful packages to load\n",
    "\n",
    "import numpy as np # linear algebra\n",
    "import pandas as pd # data processing, CSV file I/O (e.g. pd.read_csv)\n",
    "\n",
    "# Input data files are available in the read-only \"../input/\" directory\n",
    "# For example, running this (by clicking run or pressing Shift+Enter) will list all files under the input directory\n",
    "\n",
    "import os\n",
    "for dirname, _, filenames in os.walk('/kaggle/input'):\n",
    "    for filename in filenames:\n",
    "        print(os.path.join(dirname, filename))\n",
    "\n",
    "# You can write up to 20GB to the current directory (/kaggle/working/) that gets preserved as output when you create a version using \"Save & Run All\" \n",
    "# You can also write temporary files to /kaggle/temp/, but they won't be saved outside of the current session"
   ]
  },
  {
   "cell_type": "code",
   "execution_count": 2,
   "id": "eaba9975",
   "metadata": {
    "execution": {
     "iopub.execute_input": "2024-02-04T21:05:30.198157Z",
     "iopub.status.busy": "2024-02-04T21:05:30.197459Z",
     "iopub.status.idle": "2024-02-04T21:05:32.709877Z",
     "shell.execute_reply": "2024-02-04T21:05:32.708888Z"
    },
    "papermill": {
     "duration": 2.523417,
     "end_time": "2024-02-04T21:05:32.712938",
     "exception": false,
     "start_time": "2024-02-04T21:05:30.189521",
     "status": "completed"
    },
    "tags": []
   },
   "outputs": [],
   "source": [
    "import numpy as np\n",
    "import pandas as pd\n",
    "import re\n",
    "from nltk.corpus import stopwords\n",
    "from nltk.stem.porter import PorterStemmer\n",
    "from sklearn.feature_extraction.text import TfidfVectorizer\n",
    "from sklearn.svm import SVC"
   ]
  },
  {
   "cell_type": "code",
   "execution_count": 3,
   "id": "9d16f2f0",
   "metadata": {
    "execution": {
     "iopub.execute_input": "2024-02-04T21:05:32.728469Z",
     "iopub.status.busy": "2024-02-04T21:05:32.727318Z",
     "iopub.status.idle": "2024-02-04T21:05:36.260861Z",
     "shell.execute_reply": "2024-02-04T21:05:36.259402Z"
    },
    "papermill": {
     "duration": 3.544989,
     "end_time": "2024-02-04T21:05:36.264324",
     "exception": false,
     "start_time": "2024-02-04T21:05:32.719335",
     "status": "completed"
    },
    "tags": []
   },
   "outputs": [],
   "source": [
    "# Load Data\n",
    "train = pd.read_csv('/kaggle/input/fake-news/train.csv').fillna('')\n",
    "test = pd.read_csv('/kaggle/input/fake-news/test.csv').fillna('')"
   ]
  },
  {
   "cell_type": "code",
   "execution_count": 4,
   "id": "5d6fb6fb",
   "metadata": {
    "execution": {
     "iopub.execute_input": "2024-02-04T21:05:36.278465Z",
     "iopub.status.busy": "2024-02-04T21:05:36.277976Z",
     "iopub.status.idle": "2024-02-04T21:05:36.284614Z",
     "shell.execute_reply": "2024-02-04T21:05:36.283228Z"
    },
    "papermill": {
     "duration": 0.016791,
     "end_time": "2024-02-04T21:05:36.287402",
     "exception": false,
     "start_time": "2024-02-04T21:05:36.270611",
     "status": "completed"
    },
    "tags": []
   },
   "outputs": [
    {
     "name": "stdout",
     "output_type": "stream",
     "text": [
      "(20800, 5)\n",
      "(5200, 4)\n"
     ]
    }
   ],
   "source": [
    "print(train.shape)\n",
    "print(test.shape)"
   ]
  },
  {
   "cell_type": "code",
   "execution_count": 5,
   "id": "a588d2e8",
   "metadata": {
    "execution": {
     "iopub.execute_input": "2024-02-04T21:05:36.302038Z",
     "iopub.status.busy": "2024-02-04T21:05:36.301604Z",
     "iopub.status.idle": "2024-02-04T21:05:36.321936Z",
     "shell.execute_reply": "2024-02-04T21:05:36.320643Z"
    },
    "papermill": {
     "duration": 0.031913,
     "end_time": "2024-02-04T21:05:36.325631",
     "exception": false,
     "start_time": "2024-02-04T21:05:36.293718",
     "status": "completed"
    },
    "tags": []
   },
   "outputs": [
    {
     "data": {
      "text/html": [
       "<div>\n",
       "<style scoped>\n",
       "    .dataframe tbody tr th:only-of-type {\n",
       "        vertical-align: middle;\n",
       "    }\n",
       "\n",
       "    .dataframe tbody tr th {\n",
       "        vertical-align: top;\n",
       "    }\n",
       "\n",
       "    .dataframe thead th {\n",
       "        text-align: right;\n",
       "    }\n",
       "</style>\n",
       "<table border=\"1\" class=\"dataframe\">\n",
       "  <thead>\n",
       "    <tr style=\"text-align: right;\">\n",
       "      <th></th>\n",
       "      <th>id</th>\n",
       "      <th>title</th>\n",
       "      <th>author</th>\n",
       "      <th>text</th>\n",
       "      <th>label</th>\n",
       "    </tr>\n",
       "  </thead>\n",
       "  <tbody>\n",
       "    <tr>\n",
       "      <th>0</th>\n",
       "      <td>0</td>\n",
       "      <td>House Dem Aide: We Didn’t Even See Comey’s Let...</td>\n",
       "      <td>Darrell Lucus</td>\n",
       "      <td>House Dem Aide: We Didn’t Even See Comey’s Let...</td>\n",
       "      <td>1</td>\n",
       "    </tr>\n",
       "    <tr>\n",
       "      <th>1</th>\n",
       "      <td>1</td>\n",
       "      <td>FLYNN: Hillary Clinton, Big Woman on Campus - ...</td>\n",
       "      <td>Daniel J. Flynn</td>\n",
       "      <td>Ever get the feeling your life circles the rou...</td>\n",
       "      <td>0</td>\n",
       "    </tr>\n",
       "    <tr>\n",
       "      <th>2</th>\n",
       "      <td>2</td>\n",
       "      <td>Why the Truth Might Get You Fired</td>\n",
       "      <td>Consortiumnews.com</td>\n",
       "      <td>Why the Truth Might Get You Fired October 29, ...</td>\n",
       "      <td>1</td>\n",
       "    </tr>\n",
       "    <tr>\n",
       "      <th>3</th>\n",
       "      <td>3</td>\n",
       "      <td>15 Civilians Killed In Single US Airstrike Hav...</td>\n",
       "      <td>Jessica Purkiss</td>\n",
       "      <td>Videos 15 Civilians Killed In Single US Airstr...</td>\n",
       "      <td>1</td>\n",
       "    </tr>\n",
       "    <tr>\n",
       "      <th>4</th>\n",
       "      <td>4</td>\n",
       "      <td>Iranian woman jailed for fictional unpublished...</td>\n",
       "      <td>Howard Portnoy</td>\n",
       "      <td>Print \\nAn Iranian woman has been sentenced to...</td>\n",
       "      <td>1</td>\n",
       "    </tr>\n",
       "  </tbody>\n",
       "</table>\n",
       "</div>"
      ],
      "text/plain": [
       "   id                                              title              author  \\\n",
       "0   0  House Dem Aide: We Didn’t Even See Comey’s Let...       Darrell Lucus   \n",
       "1   1  FLYNN: Hillary Clinton, Big Woman on Campus - ...     Daniel J. Flynn   \n",
       "2   2                  Why the Truth Might Get You Fired  Consortiumnews.com   \n",
       "3   3  15 Civilians Killed In Single US Airstrike Hav...     Jessica Purkiss   \n",
       "4   4  Iranian woman jailed for fictional unpublished...      Howard Portnoy   \n",
       "\n",
       "                                                text  label  \n",
       "0  House Dem Aide: We Didn’t Even See Comey’s Let...      1  \n",
       "1  Ever get the feeling your life circles the rou...      0  \n",
       "2  Why the Truth Might Get You Fired October 29, ...      1  \n",
       "3  Videos 15 Civilians Killed In Single US Airstr...      1  \n",
       "4  Print \\nAn Iranian woman has been sentenced to...      1  "
      ]
     },
     "execution_count": 5,
     "metadata": {},
     "output_type": "execute_result"
    }
   ],
   "source": [
    "train.head()"
   ]
  },
  {
   "cell_type": "code",
   "execution_count": 6,
   "id": "14fea7c8",
   "metadata": {
    "execution": {
     "iopub.execute_input": "2024-02-04T21:05:36.340617Z",
     "iopub.status.busy": "2024-02-04T21:05:36.340136Z",
     "iopub.status.idle": "2024-02-04T21:05:36.353726Z",
     "shell.execute_reply": "2024-02-04T21:05:36.352282Z"
    },
    "papermill": {
     "duration": 0.024364,
     "end_time": "2024-02-04T21:05:36.356521",
     "exception": false,
     "start_time": "2024-02-04T21:05:36.332157",
     "status": "completed"
    },
    "tags": []
   },
   "outputs": [
    {
     "data": {
      "text/html": [
       "<div>\n",
       "<style scoped>\n",
       "    .dataframe tbody tr th:only-of-type {\n",
       "        vertical-align: middle;\n",
       "    }\n",
       "\n",
       "    .dataframe tbody tr th {\n",
       "        vertical-align: top;\n",
       "    }\n",
       "\n",
       "    .dataframe thead th {\n",
       "        text-align: right;\n",
       "    }\n",
       "</style>\n",
       "<table border=\"1\" class=\"dataframe\">\n",
       "  <thead>\n",
       "    <tr style=\"text-align: right;\">\n",
       "      <th></th>\n",
       "      <th>id</th>\n",
       "      <th>title</th>\n",
       "      <th>author</th>\n",
       "      <th>text</th>\n",
       "    </tr>\n",
       "  </thead>\n",
       "  <tbody>\n",
       "    <tr>\n",
       "      <th>0</th>\n",
       "      <td>20800</td>\n",
       "      <td>Specter of Trump Loosens Tongues, if Not Purse...</td>\n",
       "      <td>David Streitfeld</td>\n",
       "      <td>PALO ALTO, Calif.  —   After years of scorning...</td>\n",
       "    </tr>\n",
       "    <tr>\n",
       "      <th>1</th>\n",
       "      <td>20801</td>\n",
       "      <td>Russian warships ready to strike terrorists ne...</td>\n",
       "      <td></td>\n",
       "      <td>Russian warships ready to strike terrorists ne...</td>\n",
       "    </tr>\n",
       "    <tr>\n",
       "      <th>2</th>\n",
       "      <td>20802</td>\n",
       "      <td>#NoDAPL: Native American Leaders Vow to Stay A...</td>\n",
       "      <td>Common Dreams</td>\n",
       "      <td>Videos #NoDAPL: Native American Leaders Vow to...</td>\n",
       "    </tr>\n",
       "    <tr>\n",
       "      <th>3</th>\n",
       "      <td>20803</td>\n",
       "      <td>Tim Tebow Will Attempt Another Comeback, This ...</td>\n",
       "      <td>Daniel Victor</td>\n",
       "      <td>If at first you don’t succeed, try a different...</td>\n",
       "    </tr>\n",
       "    <tr>\n",
       "      <th>4</th>\n",
       "      <td>20804</td>\n",
       "      <td>Keiser Report: Meme Wars (E995)</td>\n",
       "      <td>Truth Broadcast Network</td>\n",
       "      <td>42 mins ago 1 Views 0 Comments 0 Likes 'For th...</td>\n",
       "    </tr>\n",
       "  </tbody>\n",
       "</table>\n",
       "</div>"
      ],
      "text/plain": [
       "      id                                              title  \\\n",
       "0  20800  Specter of Trump Loosens Tongues, if Not Purse...   \n",
       "1  20801  Russian warships ready to strike terrorists ne...   \n",
       "2  20802  #NoDAPL: Native American Leaders Vow to Stay A...   \n",
       "3  20803  Tim Tebow Will Attempt Another Comeback, This ...   \n",
       "4  20804                    Keiser Report: Meme Wars (E995)   \n",
       "\n",
       "                    author                                               text  \n",
       "0         David Streitfeld  PALO ALTO, Calif.  —   After years of scorning...  \n",
       "1                           Russian warships ready to strike terrorists ne...  \n",
       "2            Common Dreams  Videos #NoDAPL: Native American Leaders Vow to...  \n",
       "3            Daniel Victor  If at first you don’t succeed, try a different...  \n",
       "4  Truth Broadcast Network  42 mins ago 1 Views 0 Comments 0 Likes 'For th...  "
      ]
     },
     "execution_count": 6,
     "metadata": {},
     "output_type": "execute_result"
    }
   ],
   "source": [
    "test.head()"
   ]
  },
  {
   "cell_type": "code",
   "execution_count": 7,
   "id": "1323a13a",
   "metadata": {
    "execution": {
     "iopub.execute_input": "2024-02-04T21:05:36.373610Z",
     "iopub.status.busy": "2024-02-04T21:05:36.372332Z",
     "iopub.status.idle": "2024-02-04T21:05:36.394771Z",
     "shell.execute_reply": "2024-02-04T21:05:36.393514Z"
    },
    "papermill": {
     "duration": 0.033511,
     "end_time": "2024-02-04T21:05:36.397283",
     "exception": false,
     "start_time": "2024-02-04T21:05:36.363772",
     "status": "completed"
    },
    "tags": []
   },
   "outputs": [
    {
     "data": {
      "text/plain": [
       "id        0\n",
       "title     0\n",
       "author    0\n",
       "text      0\n",
       "label     0\n",
       "dtype: int64"
      ]
     },
     "execution_count": 7,
     "metadata": {},
     "output_type": "execute_result"
    }
   ],
   "source": [
    "train.isnull().sum()"
   ]
  },
  {
   "cell_type": "code",
   "execution_count": 8,
   "id": "97fd8c1c",
   "metadata": {
    "execution": {
     "iopub.execute_input": "2024-02-04T21:05:36.413729Z",
     "iopub.status.busy": "2024-02-04T21:05:36.412997Z",
     "iopub.status.idle": "2024-02-04T21:05:36.424863Z",
     "shell.execute_reply": "2024-02-04T21:05:36.423696Z"
    },
    "papermill": {
     "duration": 0.022983,
     "end_time": "2024-02-04T21:05:36.427256",
     "exception": false,
     "start_time": "2024-02-04T21:05:36.404273",
     "status": "completed"
    },
    "tags": []
   },
   "outputs": [
    {
     "data": {
      "text/plain": [
       "id        0\n",
       "title     0\n",
       "author    0\n",
       "text      0\n",
       "dtype: int64"
      ]
     },
     "execution_count": 8,
     "metadata": {},
     "output_type": "execute_result"
    }
   ],
   "source": [
    "test.isnull().sum()"
   ]
  },
  {
   "cell_type": "code",
   "execution_count": 9,
   "id": "62638f43",
   "metadata": {
    "execution": {
     "iopub.execute_input": "2024-02-04T21:05:36.443924Z",
     "iopub.status.busy": "2024-02-04T21:05:36.443083Z",
     "iopub.status.idle": "2024-02-04T21:05:36.821911Z",
     "shell.execute_reply": "2024-02-04T21:05:36.820743Z"
    },
    "papermill": {
     "duration": 0.390462,
     "end_time": "2024-02-04T21:05:36.824850",
     "exception": false,
     "start_time": "2024-02-04T21:05:36.434388",
     "status": "completed"
    },
    "tags": []
   },
   "outputs": [],
   "source": [
    "# Merge 'author' and 'title'\n",
    "X_train = (train['author'] + ' ' + train['title']).apply(lambda x: re.sub('[^a-zA-Z]', ' ', x.lower()).split())\n",
    "X_test = (test['author'] + ' ' + test['title']).apply(lambda x: re.sub('[^a-zA-Z]', ' ', x.lower()).split())"
   ]
  },
  {
   "cell_type": "code",
   "execution_count": 10,
   "id": "c514d6a4",
   "metadata": {
    "execution": {
     "iopub.execute_input": "2024-02-04T21:05:36.841005Z",
     "iopub.status.busy": "2024-02-04T21:05:36.840553Z",
     "iopub.status.idle": "2024-02-04T21:05:36.846148Z",
     "shell.execute_reply": "2024-02-04T21:05:36.844803Z"
    },
    "papermill": {
     "duration": 0.016756,
     "end_time": "2024-02-04T21:05:36.848748",
     "exception": false,
     "start_time": "2024-02-04T21:05:36.831992",
     "status": "completed"
    },
    "tags": []
   },
   "outputs": [],
   "source": [
    "# Separate labels\n",
    "Y_train = train['label'].values"
   ]
  },
  {
   "cell_type": "code",
   "execution_count": 11,
   "id": "2d2c4490",
   "metadata": {
    "execution": {
     "iopub.execute_input": "2024-02-04T21:05:36.865377Z",
     "iopub.status.busy": "2024-02-04T21:05:36.864496Z",
     "iopub.status.idle": "2024-02-04T21:06:40.422742Z",
     "shell.execute_reply": "2024-02-04T21:06:40.421410Z"
    },
    "papermill": {
     "duration": 63.569764,
     "end_time": "2024-02-04T21:06:40.425629",
     "exception": false,
     "start_time": "2024-02-04T21:05:36.855865",
     "status": "completed"
    },
    "tags": []
   },
   "outputs": [],
   "source": [
    "# Stemming\n",
    "porter_stemmer = PorterStemmer()\n",
    "X_train = X_train.apply(lambda x: ' '.join([porter_stemmer.stem(word) for word in x if word not in stopwords.words('english')]))\n",
    "X_test = X_test.apply(lambda x: ' '.join([porter_stemmer.stem(word) for word in x if word not in stopwords.words('english')]))"
   ]
  },
  {
   "cell_type": "code",
   "execution_count": 12,
   "id": "a25f4a62",
   "metadata": {
    "execution": {
     "iopub.execute_input": "2024-02-04T21:06:40.443076Z",
     "iopub.status.busy": "2024-02-04T21:06:40.442621Z",
     "iopub.status.idle": "2024-02-04T21:06:41.010701Z",
     "shell.execute_reply": "2024-02-04T21:06:41.009345Z"
    },
    "papermill": {
     "duration": 0.580514,
     "end_time": "2024-02-04T21:06:41.013931",
     "exception": false,
     "start_time": "2024-02-04T21:06:40.433417",
     "status": "completed"
    },
    "tags": []
   },
   "outputs": [],
   "source": [
    "# Vectorizing\n",
    "vectorizer = TfidfVectorizer()\n",
    "X_train = vectorizer.fit_transform(X_train)\n",
    "X_test = vectorizer.transform(X_test)"
   ]
  },
  {
   "cell_type": "code",
   "execution_count": 13,
   "id": "2866595e",
   "metadata": {
    "execution": {
     "iopub.execute_input": "2024-02-04T21:06:41.031570Z",
     "iopub.status.busy": "2024-02-04T21:06:41.030442Z",
     "iopub.status.idle": "2024-02-04T21:07:11.465547Z",
     "shell.execute_reply": "2024-02-04T21:07:11.464251Z"
    },
    "papermill": {
     "duration": 30.455016,
     "end_time": "2024-02-04T21:07:11.476273",
     "exception": false,
     "start_time": "2024-02-04T21:06:41.021257",
     "status": "completed"
    },
    "tags": []
   },
   "outputs": [
    {
     "data": {
      "text/html": [
       "<style>#sk-container-id-1 {color: black;background-color: white;}#sk-container-id-1 pre{padding: 0;}#sk-container-id-1 div.sk-toggleable {background-color: white;}#sk-container-id-1 label.sk-toggleable__label {cursor: pointer;display: block;width: 100%;margin-bottom: 0;padding: 0.3em;box-sizing: border-box;text-align: center;}#sk-container-id-1 label.sk-toggleable__label-arrow:before {content: \"▸\";float: left;margin-right: 0.25em;color: #696969;}#sk-container-id-1 label.sk-toggleable__label-arrow:hover:before {color: black;}#sk-container-id-1 div.sk-estimator:hover label.sk-toggleable__label-arrow:before {color: black;}#sk-container-id-1 div.sk-toggleable__content {max-height: 0;max-width: 0;overflow: hidden;text-align: left;background-color: #f0f8ff;}#sk-container-id-1 div.sk-toggleable__content pre {margin: 0.2em;color: black;border-radius: 0.25em;background-color: #f0f8ff;}#sk-container-id-1 input.sk-toggleable__control:checked~div.sk-toggleable__content {max-height: 200px;max-width: 100%;overflow: auto;}#sk-container-id-1 input.sk-toggleable__control:checked~label.sk-toggleable__label-arrow:before {content: \"▾\";}#sk-container-id-1 div.sk-estimator input.sk-toggleable__control:checked~label.sk-toggleable__label {background-color: #d4ebff;}#sk-container-id-1 div.sk-label input.sk-toggleable__control:checked~label.sk-toggleable__label {background-color: #d4ebff;}#sk-container-id-1 input.sk-hidden--visually {border: 0;clip: rect(1px 1px 1px 1px);clip: rect(1px, 1px, 1px, 1px);height: 1px;margin: -1px;overflow: hidden;padding: 0;position: absolute;width: 1px;}#sk-container-id-1 div.sk-estimator {font-family: monospace;background-color: #f0f8ff;border: 1px dotted black;border-radius: 0.25em;box-sizing: border-box;margin-bottom: 0.5em;}#sk-container-id-1 div.sk-estimator:hover {background-color: #d4ebff;}#sk-container-id-1 div.sk-parallel-item::after {content: \"\";width: 100%;border-bottom: 1px solid gray;flex-grow: 1;}#sk-container-id-1 div.sk-label:hover label.sk-toggleable__label {background-color: #d4ebff;}#sk-container-id-1 div.sk-serial::before {content: \"\";position: absolute;border-left: 1px solid gray;box-sizing: border-box;top: 0;bottom: 0;left: 50%;z-index: 0;}#sk-container-id-1 div.sk-serial {display: flex;flex-direction: column;align-items: center;background-color: white;padding-right: 0.2em;padding-left: 0.2em;position: relative;}#sk-container-id-1 div.sk-item {position: relative;z-index: 1;}#sk-container-id-1 div.sk-parallel {display: flex;align-items: stretch;justify-content: center;background-color: white;position: relative;}#sk-container-id-1 div.sk-item::before, #sk-container-id-1 div.sk-parallel-item::before {content: \"\";position: absolute;border-left: 1px solid gray;box-sizing: border-box;top: 0;bottom: 0;left: 50%;z-index: -1;}#sk-container-id-1 div.sk-parallel-item {display: flex;flex-direction: column;z-index: 1;position: relative;background-color: white;}#sk-container-id-1 div.sk-parallel-item:first-child::after {align-self: flex-end;width: 50%;}#sk-container-id-1 div.sk-parallel-item:last-child::after {align-self: flex-start;width: 50%;}#sk-container-id-1 div.sk-parallel-item:only-child::after {width: 0;}#sk-container-id-1 div.sk-dashed-wrapped {border: 1px dashed gray;margin: 0 0.4em 0.5em 0.4em;box-sizing: border-box;padding-bottom: 0.4em;background-color: white;}#sk-container-id-1 div.sk-label label {font-family: monospace;font-weight: bold;display: inline-block;line-height: 1.2em;}#sk-container-id-1 div.sk-label-container {text-align: center;}#sk-container-id-1 div.sk-container {/* jupyter's `normalize.less` sets `[hidden] { display: none; }` but bootstrap.min.css set `[hidden] { display: none !important; }` so we also need the `!important` here to be able to override the default hidden behavior on the sphinx rendered scikit-learn.org. See: https://github.com/scikit-learn/scikit-learn/issues/21755 */display: inline-block !important;position: relative;}#sk-container-id-1 div.sk-text-repr-fallback {display: none;}</style><div id=\"sk-container-id-1\" class=\"sk-top-container\"><div class=\"sk-text-repr-fallback\"><pre>SVC(kernel=&#x27;linear&#x27;)</pre><b>In a Jupyter environment, please rerun this cell to show the HTML representation or trust the notebook. <br />On GitHub, the HTML representation is unable to render, please try loading this page with nbviewer.org.</b></div><div class=\"sk-container\" hidden><div class=\"sk-item\"><div class=\"sk-estimator sk-toggleable\"><input class=\"sk-toggleable__control sk-hidden--visually\" id=\"sk-estimator-id-1\" type=\"checkbox\" checked><label for=\"sk-estimator-id-1\" class=\"sk-toggleable__label sk-toggleable__label-arrow\">SVC</label><div class=\"sk-toggleable__content\"><pre>SVC(kernel=&#x27;linear&#x27;)</pre></div></div></div></div></div>"
      ],
      "text/plain": [
       "SVC(kernel='linear')"
      ]
     },
     "execution_count": 13,
     "metadata": {},
     "output_type": "execute_result"
    }
   ],
   "source": [
    "# SVM Model\n",
    "classifier = SVC(kernel=\"linear\")\n",
    "classifier.fit(X_train, Y_train)"
   ]
  },
  {
   "cell_type": "code",
   "execution_count": 14,
   "id": "8784e2da",
   "metadata": {
    "execution": {
     "iopub.execute_input": "2024-02-04T21:07:11.493966Z",
     "iopub.status.busy": "2024-02-04T21:07:11.493521Z",
     "iopub.status.idle": "2024-02-04T21:07:14.560385Z",
     "shell.execute_reply": "2024-02-04T21:07:14.559131Z"
    },
    "papermill": {
     "duration": 3.079071,
     "end_time": "2024-02-04T21:07:14.563413",
     "exception": false,
     "start_time": "2024-02-04T21:07:11.484342",
     "status": "completed"
    },
    "tags": []
   },
   "outputs": [],
   "source": [
    "# Prediction\n",
    "predictions = classifier.predict(X_test)"
   ]
  },
  {
   "cell_type": "code",
   "execution_count": 15,
   "id": "299d64a3",
   "metadata": {
    "execution": {
     "iopub.execute_input": "2024-02-04T21:07:14.580027Z",
     "iopub.status.busy": "2024-02-04T21:07:14.579544Z",
     "iopub.status.idle": "2024-02-04T21:07:14.598230Z",
     "shell.execute_reply": "2024-02-04T21:07:14.596808Z"
    },
    "papermill": {
     "duration": 0.030259,
     "end_time": "2024-02-04T21:07:14.601033",
     "exception": false,
     "start_time": "2024-02-04T21:07:14.570774",
     "status": "completed"
    },
    "tags": []
   },
   "outputs": [
    {
     "name": "stdout",
     "output_type": "stream",
     "text": [
      "Your submission was successfully saved!\n"
     ]
    }
   ],
   "source": [
    "# Save to CSV\n",
    "output = pd.DataFrame({'id': test.id, 'label': predictions})\n",
    "output.to_csv('submission.csv', index=False)\n",
    "print(\"Your submission was successfully saved!\")"
   ]
  }
 ],
 "metadata": {
  "kaggle": {
   "accelerator": "none",
   "dataSources": [
    {
     "databundleVersionId": 109592,
     "sourceId": 8317,
     "sourceType": "competition"
    }
   ],
   "dockerImageVersionId": 30646,
   "isGpuEnabled": false,
   "isInternetEnabled": true,
   "language": "python",
   "sourceType": "notebook"
  },
  "kernelspec": {
   "display_name": "Python 3",
   "language": "python",
   "name": "python3"
  },
  "language_info": {
   "codemirror_mode": {
    "name": "ipython",
    "version": 3
   },
   "file_extension": ".py",
   "mimetype": "text/x-python",
   "name": "python",
   "nbconvert_exporter": "python",
   "pygments_lexer": "ipython3",
   "version": "3.10.13"
  },
  "papermill": {
   "default_parameters": {},
   "duration": 109.823384,
   "end_time": "2024-02-04T21:07:15.536273",
   "environment_variables": {},
   "exception": null,
   "input_path": "__notebook__.ipynb",
   "output_path": "__notebook__.ipynb",
   "parameters": {},
   "start_time": "2024-02-04T21:05:25.712889",
   "version": "2.5.0"
  }
 },
 "nbformat": 4,
 "nbformat_minor": 5
}
